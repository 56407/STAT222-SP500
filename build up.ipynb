{
 "metadata": {
  "name": ""
 },
 "nbformat": 3,
 "nbformat_minor": 0,
 "worksheets": [
  {
   "cells": [
    {
     "cell_type": "code",
     "collapsed": false,
     "input": [
      "import os\n",
      "print os.getcwd()\n",
      "os.chdir(\"/Users/BiweiTao/STAT222-SP500/\")\n",
      "\n",
      "from pandas import read_csv\n",
      "df = read_csv(\"daily.csv\", )\n",
      "Date= tuple(df['Date'])\n",
      "Price= tuple(df['Adj Close'])\n",
      "\n",
      "price = range(16143)\n",
      "date = range(16143)\n",
      "for x in range(16143):\n",
      "\tprice[x] = Price[16142-x]\n",
      "\tdate[x] = Date[16142-x]\n",
      "\n",
      "from decimal import *\n",
      "getcontext().prec= 6\n",
      "enddate = 2014 + Decimal(59)/Decimal(365)\n",
      "begindate = 1950 + Decimal(3)/Decimal(365)\n",
      "gap = (enddate - begindate)/(len(date)-1)\n",
      "numdate = range(len(date))\n",
      "for i in range(len(date)):\n",
      "\tnumdate[i] = begindate + i * gap\n",
      "\n",
      "sprice = range(16143)\n",
      "import numpy\n",
      "for x in range(16143):\n",
      "\tif x-60 < 0:\n",
      "\t\tsprice[x] = numpy.mean(price[0:x+60])\n",
      "\telse: \n",
      "\t\tif x+60 > 16142:\n",
      "\t\t\tsprice[x] = numpy.mean(price[x-60:16142])\n",
      "\t\telse:\n",
      "\t\t\tsprice[x] = numpy.mean(price[x-60:x+60])\n",
      "\n",
      "from pylab import *\n",
      "plot(numdate,sprice)\n",
      "#show()\n",
      "\n",
      "maxprice = range(0)\n",
      "maxdate = range(0)\n",
      "maxobs = range(0)\n",
      "for i in range(16143):\n",
      "\tmax = 0\n",
      "\tif i-180 < 0:\n",
      "\t\ta = sprice[0:i-1] + sprice[i+1:i+180]\n",
      "\telse:\n",
      "\t\tif i+180 > 16142:\n",
      "\t\t\ta = sprice[i-180:i-1] + sprice[i+1:16142]\n",
      "\t\telse:\n",
      "\t\t\ta = sprice[i-180:i-1] + sprice[i+1:i+180]\n",
      "\tfor number in a:\n",
      "\t\tif number > max:\n",
      "\t\t\tmax = number\n",
      "\tif sprice[i] > max:\n",
      "\t\tmaxprice = maxprice + [sprice[i]]\n",
      "\t\tmaxdate = maxdate + [numdate[i]]\n",
      "\t\tmaxobs = maxobs + [i]\n",
      "\n",
      "minprice = range(0)\n",
      "mindate = range(0)\n",
      "minobs = range(0)\n",
      "for i in range(16143):\n",
      "\tmin = 2000\n",
      "\tif i-180 < 0:\n",
      "\t\ta = sprice[0:i-1] + sprice[i+1:i+180]\n",
      "\telse:\n",
      "\t\tif i+180 > 16142:\n",
      "\t\t\ta = sprice[i-180:i-1] + sprice[i+1:16142]\n",
      "\t\telse:\n",
      "\t\t\ta = sprice[i-180:i-1] + sprice[i+1:i+180]\n",
      "\tfor number in a:\n",
      "\t\tif number < min:\n",
      "\t\t\tmin = number\n",
      "\tif sprice[i] < min:\n",
      "\t\tminprice = minprice + [sprice[i]]\n",
      "\t\tmindate = mindate + [numdate[i]]\n",
      "\t\tminobs = minobs + [i]\n",
      "\n",
      "\n",
      "\n",
      "from pylab import *\n",
      "plot(numdate,sprice)\n",
      "plot(maxdate, maxprice, \"o\", label=\"max\")\n",
      "plot(mindate, minprice, \"o\", label=\"min\")\n",
      "legend()\n",
      "show()\n",
      "\n",
      "rreturn = range(len(price)-1)\n",
      "for i in range(len(price)-1):\n",
      "\trreturn[i]=(price[i+1] - price[i])/price[i]\n",
      "\n",
      "preev = price[12697:14493]\n",
      "postev = price[14494:15431]\n",
      "\n",
      "\n",
      "\n",
      "prerr = rreturn[12697:14493]\n",
      "postrr = rreturn[14494:15430]\n",
      "\n",
      "predate = numdate[12697:14493]\n",
      "postdate = numdate[14494:15431]\n",
      "plot(predate+postdate,preev+postev)\n",
      "axvline(maxdate[len(maxdate)-5], color='k')\n",
      "ylabel('years')\n",
      "show()\n",
      "\n",
      "# Following codes are not conformable on (1,1,1). So i use (2,2,2)\n",
      "#p = 2\n",
      "#d = 2\n",
      "#q = 2\n",
      "import statsmodels.api as sm\n",
      "from statsmodels import *\n",
      "#modelagg = tsa.arima_model.ARIMA(preev+postev, [p, d, q],freq='M').fit()\n",
      "#modelpre = tsa.arima_model.ARIMA(preev, [p, d, q],freq='M').fit()\n",
      "#modelpost = tsa.arima_model.ARIMA(postev, [p, d, q],freq='M').fit()"
     ],
     "language": "python",
     "metadata": {},
     "outputs": [
      {
       "output_type": "stream",
       "stream": "stdout",
       "text": [
        "/Users/BiweiTao/STAT222-SP500\n"
       ]
      }
     ],
     "prompt_number": 18
    },
    {
     "cell_type": "code",
     "collapsed": false,
     "input": [
      "import rpy2 as rpy2\n",
      "%load_ext rmagic\n",
      "import rpy2.robjects as robjects\n",
      "from rpy2 import robjects\n",
      "robjects.r.library(\"tseries\")\n",
      "dat <- robjects.r.rpreev"
     ],
     "language": "python",
     "metadata": {},
     "outputs": [],
     "prompt_number": 11
    },
    {
     "cell_type": "code",
     "collapsed": false,
     "input": [
      "p=1\n",
      "d=0\n",
      "q=1\n",
      "modelpre2 = tsa.arima_model.ARIMA(preev, [p, d, q],freq='M').fit()"
     ],
     "language": "python",
     "metadata": {},
     "outputs": [],
     "prompt_number": 5
    },
    {
     "cell_type": "code",
     "collapsed": false,
     "input": [
      "modelpre2.summary()"
     ],
     "language": "python",
     "metadata": {},
     "outputs": [
      {
       "html": [
        "<table class=\"simpletable\">\n",
        "<caption>ARMA Model Results</caption>\n",
        "<tr>\n",
        "  <th>Dep. Variable:</th>         <td>y</td>        <th>  No. Observations:  </th>    <td>937</td>   \n",
        "</tr>\n",
        "<tr>\n",
        "  <th>Model:</th>            <td>ARMA(1, 1)</td>    <th>  Log Likelihood     </th> <td>-4051.604</td>\n",
        "</tr>\n",
        "<tr>\n",
        "  <th>Method:</th>             <td>css-mle</td>     <th>  S.D. of innovations</th>  <td>18.219</td>  \n",
        "</tr>\n",
        "<tr>\n",
        "  <th>Date:</th>          <td>Sun, 16 Mar 2014</td> <th>  AIC                </th> <td>8111.207</td> \n",
        "</tr>\n",
        "<tr>\n",
        "  <th>Time:</th>              <td>17:07:31</td>     <th>  BIC                </th> <td>8130.578</td> \n",
        "</tr>\n",
        "<tr>\n",
        "  <th>Sample:</th>                <td>0</td>        <th>  HQIC               </th> <td>8118.593</td> \n",
        "</tr>\n",
        "<tr>\n",
        "  <th></th>                       <td> </td>        <th>                     </th>     <td> </td>    \n",
        "</tr>\n",
        "</table>\n",
        "<table class=\"simpletable\">\n",
        "<tr>\n",
        "     <td></td>        <th>coef</th>     <th>std err</th>      <th>z</th>      <th>P>|z|</th> <th>[95.0% Conf. Int.]</th> \n",
        "</tr>\n",
        "<tr>\n",
        "  <th>const</th>   <td> 1268.4289</td> <td>  145.104</td> <td>    8.741</td> <td> 0.000</td> <td>  984.029  1552.828</td>\n",
        "</tr>\n",
        "<tr>\n",
        "  <th>ar.L1.y</th> <td>    0.9973</td> <td>    0.002</td> <td>  496.219</td> <td> 0.000</td> <td>    0.993     1.001</td>\n",
        "</tr>\n",
        "<tr>\n",
        "  <th>ma.L1.y</th> <td>   -0.1581</td> <td>    0.035</td> <td>   -4.561</td> <td> 0.000</td> <td>   -0.226    -0.090</td>\n",
        "</tr>\n",
        "</table>\n",
        "<table class=\"simpletable\">\n",
        "<caption>Roots</caption>\n",
        "<tr>\n",
        "    <td></td>   <th>           Real</th> <th>         Imaginary</th> <th>         Modulus</th> <th>        Frequency</th>\n",
        "</tr>\n",
        "<tr>\n",
        "  <th>AR.1</th>               1.0027                    +0.0000j                    1.0027                    0.0000     \n",
        "</tr>\n",
        "<tr>\n",
        "  <th>MA.1</th>               6.3256                    +0.0000j                    6.3256                    0.0000     \n",
        "</tr>\n",
        "</table>"
       ],
       "metadata": {},
       "output_type": "pyout",
       "prompt_number": 7,
       "text": [
        "<class 'statsmodels.iolib.summary.Summary'>\n",
        "\"\"\"\n",
        "                              ARMA Model Results                              \n",
        "==============================================================================\n",
        "Dep. Variable:                      y   No. Observations:                  937\n",
        "Model:                     ARMA(1, 1)   Log Likelihood               -4051.604\n",
        "Method:                       css-mle   S.D. of innovations             18.219\n",
        "Date:                Sun, 16 Mar 2014   AIC                           8111.207\n",
        "Time:                        17:07:31   BIC                           8130.578\n",
        "Sample:                             0   HQIC                          8118.593\n",
        "                                                                              \n",
        "==============================================================================\n",
        "                 coef    std err          z      P>|z|      [95.0% Conf. Int.]\n",
        "------------------------------------------------------------------------------\n",
        "const       1268.4289    145.104      8.741      0.000       984.029  1552.828\n",
        "ar.L1.y        0.9973      0.002    496.219      0.000         0.993     1.001\n",
        "ma.L1.y       -0.1581      0.035     -4.561      0.000        -0.226    -0.090\n",
        "                                    Roots                                    \n",
        "=============================================================================\n",
        "                 Real           Imaginary           Modulus         Frequency\n",
        "-----------------------------------------------------------------------------\n",
        "AR.1            1.0027           +0.0000j            1.0027            0.0000\n",
        "MA.1            6.3256           +0.0000j            6.3256            0.0000\n",
        "-----------------------------------------------------------------------------\n",
        "\"\"\""
       ]
      }
     ],
     "prompt_number": 7
    },
    {
     "cell_type": "code",
     "collapsed": false,
     "input": [
      "p=1\n",
      "d=1\n",
      "q=1\n",
      "modelpost2 = tsa.arima_model.ARIMA(postev, [p, d, q],freq='M').fit()"
     ],
     "language": "python",
     "metadata": {},
     "outputs": [],
     "prompt_number": 10
    },
    {
     "cell_type": "code",
     "collapsed": false,
     "input": [
      "modelpost2.summary()"
     ],
     "language": "python",
     "metadata": {},
     "outputs": [
      {
       "html": [
        "<table class=\"simpletable\">\n",
        "<caption>ARIMA Model Results</caption>\n",
        "<tr>\n",
        "  <th>Dep. Variable:</th>        <td>D.y</td>       <th>  No. Observations:  </th>    <td>936</td>   \n",
        "</tr>\n",
        "<tr>\n",
        "  <th>Model:</th>          <td>ARIMA(1, 1, 1)</td>  <th>  Log Likelihood     </th> <td>-4044.155</td>\n",
        "</tr>\n",
        "<tr>\n",
        "  <th>Method:</th>             <td>css-mle</td>     <th>  S.D. of innovations</th>  <td>18.206</td>  \n",
        "</tr>\n",
        "<tr>\n",
        "  <th>Date:</th>          <td>Sun, 16 Mar 2014</td> <th>  AIC                </th> <td>8096.310</td> \n",
        "</tr>\n",
        "<tr>\n",
        "  <th>Time:</th>              <td>17:12:45</td>     <th>  BIC                </th> <td>8115.677</td> \n",
        "</tr>\n",
        "<tr>\n",
        "  <th>Sample:</th>                <td>1</td>        <th>  HQIC               </th> <td>8103.695</td> \n",
        "</tr>\n",
        "<tr>\n",
        "  <th></th>                       <td> </td>        <th>                     </th>     <td> </td>    \n",
        "</tr>\n",
        "</table>\n",
        "<table class=\"simpletable\">\n",
        "<tr>\n",
        "      <td></td>         <th>coef</th>     <th>std err</th>      <th>z</th>      <th>P>|z|</th> <th>[95.0% Conf. Int.]</th> \n",
        "</tr>\n",
        "<tr>\n",
        "  <th>const</th>     <td>   -0.0903</td> <td>    0.473</td> <td>   -0.191</td> <td> 0.849</td> <td>   -1.016     0.836</td>\n",
        "</tr>\n",
        "<tr>\n",
        "  <th>ar.L1.D.y</th> <td>    0.2611</td> <td>    0.153</td> <td>    1.712</td> <td> 0.087</td> <td>   -0.038     0.560</td>\n",
        "</tr>\n",
        "<tr>\n",
        "  <th>ma.L1.D.y</th> <td>   -0.4135</td> <td>    0.143</td> <td>   -2.893</td> <td> 0.004</td> <td>   -0.694    -0.133</td>\n",
        "</tr>\n",
        "</table>\n",
        "<table class=\"simpletable\">\n",
        "<caption>Roots</caption>\n",
        "<tr>\n",
        "    <td></td>   <th>           Real</th> <th>         Imaginary</th> <th>         Modulus</th> <th>        Frequency</th>\n",
        "</tr>\n",
        "<tr>\n",
        "  <th>AR.1</th>               3.8293                    +0.0000j                    3.8293                    0.0000     \n",
        "</tr>\n",
        "<tr>\n",
        "  <th>MA.1</th>               2.4186                    +0.0000j                    2.4186                    0.0000     \n",
        "</tr>\n",
        "</table>"
       ],
       "metadata": {},
       "output_type": "pyout",
       "prompt_number": 11,
       "text": [
        "<class 'statsmodels.iolib.summary.Summary'>\n",
        "\"\"\"\n",
        "                             ARIMA Model Results                              \n",
        "==============================================================================\n",
        "Dep. Variable:                    D.y   No. Observations:                  936\n",
        "Model:                 ARIMA(1, 1, 1)   Log Likelihood               -4044.155\n",
        "Method:                       css-mle   S.D. of innovations             18.206\n",
        "Date:                Sun, 16 Mar 2014   AIC                           8096.310\n",
        "Time:                        17:12:45   BIC                           8115.677\n",
        "Sample:                             1   HQIC                          8103.695\n",
        "                                                                              \n",
        "==============================================================================\n",
        "                 coef    std err          z      P>|z|      [95.0% Conf. Int.]\n",
        "------------------------------------------------------------------------------\n",
        "const         -0.0903      0.473     -0.191      0.849        -1.016     0.836\n",
        "ar.L1.D.y      0.2611      0.153      1.712      0.087        -0.038     0.560\n",
        "ma.L1.D.y     -0.4135      0.143     -2.893      0.004        -0.694    -0.133\n",
        "                                    Roots                                    \n",
        "=============================================================================\n",
        "                 Real           Imaginary           Modulus         Frequency\n",
        "-----------------------------------------------------------------------------\n",
        "AR.1            3.8293           +0.0000j            3.8293            0.0000\n",
        "MA.1            2.4186           +0.0000j            2.4186            0.0000\n",
        "-----------------------------------------------------------------------------\n",
        "\"\"\""
       ]
      }
     ],
     "prompt_number": 11
    },
    {
     "cell_type": "code",
     "collapsed": false,
     "input": [
      "import rpy2 as rpy2\n",
      "%load_ext rmagic"
     ],
     "language": "python",
     "metadata": {},
     "outputs": [
      {
       "output_type": "stream",
       "stream": "stdout",
       "text": [
        "The rmagic extension is already loaded. To reload it, use:\n",
        "  %reload_ext rmagic\n"
       ]
      }
     ],
     "prompt_number": 19
    },
    {
     "cell_type": "code",
     "collapsed": false,
     "input": [
      "%%R\n",
      "library(forecast)"
     ],
     "language": "python",
     "metadata": {},
     "outputs": [],
     "prompt_number": 20
    },
    {
     "cell_type": "code",
     "collapsed": false,
     "input": [
      "%%R\n",
      "daily <- read.table(\"daily.csv\", dec='.', sep=',', header=TRUE)\n",
      "adjprice <- rep(0, length(daily[,1]))\n",
      "print(length(adjprice))\n",
      "\n",
      "for (i in 1:16143) {\n",
      "    adjprice[16144 -i] <- daily$Adj.Close[i]\n",
      "}\n",
      "prepr <- adjprice[12697:14493]\n",
      "postpr <- adjprice[14494:15431]\n",
      "\n"
     ],
     "language": "python",
     "metadata": {},
     "outputs": [
      {
       "metadata": {},
       "output_type": "display_data",
       "text": [
        "[1] 16143\n"
       ]
      }
     ],
     "prompt_number": 21
    },
    {
     "cell_type": "code",
     "collapsed": false,
     "input": [
      "%%R\n",
      "#With Wt = Yt \u2212 Yt \u2212 1, we have Wt = \u03c61Wt\u20131 +\u03c62Wt\u20132 +...+\u03c6pWt\u2013p +et \u2013\u03b81et\u20131 \u2013\u03b82et\u20132 \u2013 ... \u2013 \u03b8qet \u2013 q\n",
      "presim <- arima.sim(list(order = c(1,0,1), ar = 0.9973, ma = -0.1581), n = 200)#A list with component ar and/or ma giving the AR and MA coefficients respectively. Optionally a component order can be used. An empty list gives an ARIMA(0, 0, 0) model, that is white noise.\n",
      "#n, length of output series, before un-differencing. A strictly positive integer.\n",
      "ts.plot(presim)"
     ],
     "language": "python",
     "metadata": {},
     "outputs": [
      {
       "metadata": {},
       "output_type": "display_data",
       "png": "[encoded data removed]"
      }
     ],
     "prompt_number": 28
    },
    {
     "cell_type": "code",
     "collapsed": false,
     "input": [
      "%%R\n",
      "#With Wt = Yt \u2212 Yt \u2212 1, we have Wt = \u03c61Wt\u20131 +\u03c62Wt\u20132 +...+\u03c6pWt\u2013p +et \u2013\u03b81et\u20131 \u2013\u03b82et\u20132 \u2013 ... \u2013 \u03b8qet \u2013 q\n",
      "postsim <- arima.sim(list(order = c(1,1,1), ar = 0.2611, ma = -0.4135), n = 200)#A list with component ar and/or ma giving the AR and MA coefficients respectively. Optionally a component order can be used. An empty list gives an ARIMA(0, 0, 0) model, that is white noise.\n",
      "#n, length of output series, before un-differencing. A strictly positive integer.\n",
      "ts.plot(postsim)"
     ],
     "language": "python",
     "metadata": {},
     "outputs": [
      {
       "metadata": {},
       "output_type": "display_data",
       "png": "[encoded data removed]"
      }
     ],
     "prompt_number": 30
    },
    {
     "cell_type": "code",
     "collapsed": false,
     "input": [
      "%%R\n",
      "library(stats)\n",
      "arimapre <- arima(ts(prepr),c(1,0,1))\n",
      "print(arimapre)"
     ],
     "language": "python",
     "metadata": {},
     "outputs": []
    },
    {
     "cell_type": "code",
     "collapsed": false,
     "input": [
      "%%R\n",
      "install.packages(\"forecast\")\n",
      "library(\"forecast\")"
     ],
     "language": "python",
     "metadata": {},
     "outputs": []
    },
    {
     "cell_type": "code",
     "collapsed": false,
     "input": [
      "plot(forcast(object=arimapre, h=5000))"
     ],
     "language": "python",
     "metadata": {},
     "outputs": []
    },
    {
     "cell_type": "code",
     "collapsed": false,
     "input": [
      "%%R\n",
      "## install.packages(\"tseries\")\n",
      "library(\"tseries\")\n",
      "dat <- diff(log( ))\n",
      "dat <- ts(dat)\n",
      "dat.garch <- garch(dat)\n",
      "summary(dat.garch)    \n",
      "plot(dat.garch) "
     ],
     "language": "python",
     "metadata": {},
     "outputs": []
    },
    {
     "cell_type": "code",
     "collapsed": false,
     "input": [],
     "language": "python",
     "metadata": {},
     "outputs": []
    }
   ],
   "metadata": {}
  }
 ]
}