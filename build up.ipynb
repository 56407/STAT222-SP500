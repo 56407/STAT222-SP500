{
 "metadata": {
  "name": ""
 },
 "nbformat": 3,
 "nbformat_minor": 0,
 "worksheets": [
  {
   "cells": [
    {
     "cell_type": "code",
     "collapsed": false,
     "input": [
      "import os\n",
      "print os.getcwd()\n",
      "os.chdir(\"/Users/BiweiTao/STAT222-SP500/\")\n",
      "\n",
      "from pandas import read_csv\n",
      "df = read_csv(\"daily.csv\", )\n",
      "Date= tuple(df['Date'])\n",
      "Price= tuple(df['Adj Close'])\n",
      "\n",
      "price = range(16143)\n",
      "date = range(16143)\n",
      "for x in range(16143):\n",
      "\tprice[x] = Price[16142-x]\n",
      "\tdate[x] = Date[16142-x]\n",
      "\n",
      "from decimal import *\n",
      "getcontext().prec= 6\n",
      "enddate = 2014 + Decimal(59)/Decimal(365)\n",
      "begindate = 1950 + Decimal(3)/Decimal(365)\n",
      "gap = (enddate - begindate)/(len(date)-1)\n",
      "numdate = range(len(date))\n",
      "for i in range(len(date)):\n",
      "\tnumdate[i] = begindate + i * gap\n",
      "\n",
      "sprice = range(16143)\n",
      "import numpy\n",
      "for x in range(16143):\n",
      "\tif x-60 < 0:\n",
      "\t\tsprice[x] = numpy.mean(price[0:x+60])\n",
      "\telse: \n",
      "\t\tif x+60 > 16142:\n",
      "\t\t\tsprice[x] = numpy.mean(price[x-60:16142])\n",
      "\t\telse:\n",
      "\t\t\tsprice[x] = numpy.mean(price[x-60:x+60])\n",
      "\n",
      "from pylab import *\n",
      "plot(numdate,sprice)\n",
      "#show()\n",
      "\n",
      "maxprice = range(0)\n",
      "maxdate = range(0)\n",
      "maxobs = range(0)\n",
      "for i in range(16143):\n",
      "\tmax = 0\n",
      "\tif i-180 < 0:\n",
      "\t\ta = sprice[0:i-1] + sprice[i+1:i+180]\n",
      "\telse:\n",
      "\t\tif i+180 > 16142:\n",
      "\t\t\ta = sprice[i-180:i-1] + sprice[i+1:16142]\n",
      "\t\telse:\n",
      "\t\t\ta = sprice[i-180:i-1] + sprice[i+1:i+180]\n",
      "\tfor number in a:\n",
      "\t\tif number > max:\n",
      "\t\t\tmax = number\n",
      "\tif sprice[i] > max:\n",
      "\t\tmaxprice = maxprice + [sprice[i]]\n",
      "\t\tmaxdate = maxdate + [numdate[i]]\n",
      "\t\tmaxobs = maxobs + [i]\n",
      "\n",
      "minprice = range(0)\n",
      "mindate = range(0)\n",
      "minobs = range(0)\n",
      "for i in range(16143):\n",
      "\tmin = 2000\n",
      "\tif i-180 < 0:\n",
      "\t\ta = sprice[0:i-1] + sprice[i+1:i+180]\n",
      "\telse:\n",
      "\t\tif i+180 > 16142:\n",
      "\t\t\ta = sprice[i-180:i-1] + sprice[i+1:16142]\n",
      "\t\telse:\n",
      "\t\t\ta = sprice[i-180:i-1] + sprice[i+1:i+180]\n",
      "\tfor number in a:\n",
      "\t\tif number < min:\n",
      "\t\t\tmin = number\n",
      "\tif sprice[i] < min:\n",
      "\t\tminprice = minprice + [sprice[i]]\n",
      "\t\tmindate = mindate + [numdate[i]]\n",
      "\t\tminobs = minobs + [i]\n",
      "\n",
      "\n",
      "\n",
      "from pylab import *\n",
      "plot(numdate,sprice)\n",
      "plot(maxdate, maxprice, \"o\", label=\"max\")\n",
      "plot(mindate, minprice, \"o\", label=\"min\")\n",
      "legend()\n",
      "show()\n",
      "\n",
      "rreturn = range(len(price)-1)\n",
      "for i in range(len(price)-1):\n",
      "\trreturn[i]=(price[i+1] - price[i])/price[i]\n",
      "\n",
      "preev = price[12697:14493]\n",
      "postev = price[14494:15431]\n",
      "\n",
      "\n",
      "\n",
      "prerr = rreturn[12697:14493]\n",
      "postrr = rreturn[14494:15430]\n",
      "\n",
      "predate = numdate[12697:14493]\n",
      "postdate = numdate[14494:15431]\n",
      "plot(predate+postdate,preev+postev)\n",
      "axvline(maxdate[len(maxdate)-5], color='k')\n",
      "ylabel('years')\n",
      "show()\n",
      "\n",
      "# Following codes are not conformable on (1,1,1). So i use (2,2,2)\n",
      "#p = 2\n",
      "#d = 2\n",
      "#q = 2\n",
      "import statsmodels.api as sm\n",
      "from statsmodels import *\n",
      "#modelagg = tsa.arima_model.ARIMA(preev+postev, [p, d, q],freq='M').fit()\n",
      "#modelpre = tsa.arima_model.ARIMA(preev, [p, d, q],freq='M').fit()\n",
      "#modelpost = tsa.arima_model.ARIMA(postev, [p, d, q],freq='M').fit()"
     ],
     "language": "python",
     "metadata": {},
     "outputs": [
      {
       "output_type": "stream",
       "stream": "stdout",
       "text": [
        "/Users/BiweiTao/STAT222-SP500\n"
       ]
      }
     ],
     "prompt_number": 1
    },
    {
     "cell_type": "code",
     "collapsed": false,
     "input": [
      "import rpy2 as rpy2\n",
      "%load_ext rmagic\n",
      "import rpy2.robjects as robjects\n",
      "from rpy2 import robjects\n",
      "robjects.r.library(\"tseries\")\n",
      "dat <- robjects.r.rpreev"
     ],
     "language": "python",
     "metadata": {},
     "outputs": [
      {
       "ename": "NameError",
       "evalue": "name 'dat' is not defined",
       "output_type": "pyerr",
       "traceback": [
        "\u001b[0;31m---------------------------------------------------------------------------\u001b[0m\n\u001b[0;31mNameError\u001b[0m                                 Traceback (most recent call last)",
        "\u001b[0;32m<ipython-input-2-00f691269516>\u001b[0m in \u001b[0;36m<module>\u001b[0;34m()\u001b[0m\n\u001b[1;32m      4\u001b[0m \u001b[0;32mfrom\u001b[0m \u001b[0mrpy2\u001b[0m \u001b[0;32mimport\u001b[0m \u001b[0mrobjects\u001b[0m\u001b[0;34m\u001b[0m\u001b[0m\n\u001b[1;32m      5\u001b[0m \u001b[0mrobjects\u001b[0m\u001b[0;34m.\u001b[0m\u001b[0mr\u001b[0m\u001b[0;34m.\u001b[0m\u001b[0mlibrary\u001b[0m\u001b[0;34m(\u001b[0m\u001b[0;34m\"tseries\"\u001b[0m\u001b[0;34m)\u001b[0m\u001b[0;34m\u001b[0m\u001b[0m\n\u001b[0;32m----> 6\u001b[0;31m \u001b[0mdat\u001b[0m \u001b[0;34m<\u001b[0m\u001b[0;34m-\u001b[0m \u001b[0mrobjects\u001b[0m\u001b[0;34m.\u001b[0m\u001b[0mr\u001b[0m\u001b[0;34m.\u001b[0m\u001b[0mrpreev\u001b[0m\u001b[0;34m\u001b[0m\u001b[0m\n\u001b[0m",
        "\u001b[0;31mNameError\u001b[0m: name 'dat' is not defined"
       ]
      },
      {
       "output_type": "stream",
       "stream": "stdout",
       "text": [
        "\n",
        "    \u2018tseries\u2019 version: 0.10-32\n",
        "\n",
        "    \u2018tseries\u2019 is a package for time series analysis and computational\n",
        "    finance.\n",
        "\n",
        "    See \u2018library(help=\"tseries\")\u2019 for details.\n",
        "\n"
       ]
      }
     ],
     "prompt_number": 2
    },
    {
     "cell_type": "code",
     "collapsed": false,
     "input": [
      "p=1\n",
      "d=0\n",
      "q=1\n",
      "modelpre2 = tsa.arima_model.ARIMA(preev, [p, d, q],freq='M').fit()"
     ],
     "language": "python",
     "metadata": {},
     "outputs": []
    },
    {
     "cell_type": "code",
     "collapsed": false,
     "input": [
      "modelpre2.summary()"
     ],
     "language": "python",
     "metadata": {},
     "outputs": []
    },
    {
     "cell_type": "code",
     "collapsed": false,
     "input": [
      "p=1\n",
      "d=1\n",
      "q=1\n",
      "modelpost2 = tsa.arima_model.ARIMA(postev, [p, d, q],freq='M').fit()"
     ],
     "language": "python",
     "metadata": {},
     "outputs": []
    },
    {
     "cell_type": "code",
     "collapsed": false,
     "input": [
      "modelpost2.summary()"
     ],
     "language": "python",
     "metadata": {},
     "outputs": []
    },
    {
     "cell_type": "code",
     "collapsed": false,
     "input": [
      "import rpy2 as rpy2\n",
      "%load_ext rmagic"
     ],
     "language": "python",
     "metadata": {},
     "outputs": []
    },
    {
     "cell_type": "code",
     "collapsed": false,
     "input": [
      "%%R\n",
      "library(forecast)"
     ],
     "language": "python",
     "metadata": {},
     "outputs": []
    },
    {
     "cell_type": "code",
     "collapsed": false,
     "input": [
      "%%R\n",
      "daily <- read.table(\"daily.csv\", dec='.', sep=',', header=TRUE)\n",
      "adjprice <- rep(0, length(daily[,1]))\n",
      "print(length(adjprice))\n",
      "\n",
      "for (i in 1:16143) {\n",
      "    adjprice[16144 -i] <- daily$Adj.Close[i]\n",
      "}\n",
      "prepr <- adjprice[12697:14493]\n",
      "postpr <- adjprice[14494:15431]\n",
      "\n"
     ],
     "language": "python",
     "metadata": {},
     "outputs": []
    },
    {
     "cell_type": "code",
     "collapsed": false,
     "input": [
      "%%R\n",
      "#With Wt = Yt \u2212 Yt \u2212 1, we have Wt = \u03c61Wt\u20131 +\u03c62Wt\u20132 +...+\u03c6pWt\u2013p +et \u2013\u03b81et\u20131 \u2013\u03b82et\u20132 \u2013 ... \u2013 \u03b8qet \u2013 q\n",
      "presim <- arima.sim(list(order = c(1,0,1), ar = 0.9973, ma = -0.1581), n = 200)#A list with component ar and/or ma giving the AR and MA coefficients respectively. Optionally a component order can be used. An empty list gives an ARIMA(0, 0, 0) model, that is white noise.\n",
      "#n, length of output series, before un-differencing. A strictly positive integer.\n",
      "ts.plot(presim)"
     ],
     "language": "python",
     "metadata": {},
     "outputs": []
    },
    {
     "cell_type": "code",
     "collapsed": false,
     "input": [
      "%%R\n",
      "#With Wt = Yt \u2212 Yt \u2212 1, we have Wt = \u03c61Wt\u20131 +\u03c62Wt\u20132 +...+\u03c6pWt\u2013p +et \u2013\u03b81et\u20131 \u2013\u03b82et\u20132 \u2013 ... \u2013 \u03b8qet \u2013 q\n",
      "postsim <- arima.sim(list(order = c(1,1,1), ar = 0.2611, ma = -0.4135), n = 200)#A list with component ar and/or ma giving the AR and MA coefficients respectively. Optionally a component order can be used. An empty list gives an ARIMA(0, 0, 0) model, that is white noise.\n",
      "#n, length of output series, before un-differencing. A strictly positive integer.\n",
      "ts.plot(postsim)"
     ],
     "language": "python",
     "metadata": {},
     "outputs": []
    },
    {
     "cell_type": "code",
     "collapsed": false,
     "input": [
      "%%R\n",
      "library(stats)\n",
      "arimapre <- arima(ts(prepr),c(1,0,1))\n",
      "print(arimapre)"
     ],
     "language": "python",
     "metadata": {},
     "outputs": []
    },
    {
     "cell_type": "code",
     "collapsed": false,
     "input": [
      "%%R\n",
      "install.packages(\"forecast\")\n",
      "library(\"forecast\")"
     ],
     "language": "python",
     "metadata": {},
     "outputs": []
    },
    {
     "cell_type": "code",
     "collapsed": false,
     "input": [
      "plot(forcast(object=arimapre, h=5000))"
     ],
     "language": "python",
     "metadata": {},
     "outputs": []
    },
    {
     "cell_type": "code",
     "collapsed": false,
     "input": [
      "%%R\n",
      "## install.packages(\"tseries\")\n",
      "library(\"tseries\")\n",
      "dat <- diff(log( ))\n",
      "dat <- ts(dat)\n",
      "dat.garch <- garch(dat)\n",
      "summary(dat.garch)    \n",
      "plot(dat.garch) "
     ],
     "language": "python",
     "metadata": {},
     "outputs": []
    },
    {
     "cell_type": "code",
     "collapsed": false,
     "input": [],
     "language": "python",
     "metadata": {},
     "outputs": []
    }
   ],
   "metadata": {}
  }
 ]
}