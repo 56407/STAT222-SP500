{
 "metadata": {
  "name": ""
 },
 "nbformat": 3,
 "nbformat_minor": 0,
 "worksheets": [
  {
   "cells": [
    {
     "cell_type": "code",
     "collapsed": false,
     "input": [
      "%%file compute_rate.py\n",
      "\n",
      "import os\n",
      "print os.getcwd()\n",
      "os.chdir(\"/Users/edwsurewin/Dropbox/Berkeley MA/222/STAT222-SP500\")\n",
      "\n",
      "import pandas as pd\n",
      "\n",
      "SP500 = pd.read_csv(\"SP500.csv\")\n",
      "SP500['Day'] = \"null\"\n",
      "print(SP500.head())\n",
      "\n",
      "import datetime\n",
      "\n",
      "for i in range(0, len(SP500['Day'])):\n",
      "    SP500['Day'][i] = datetime.date(int(SP500['Date'][i][0:4]), int(SP500['Date'][i][5:7]), int(SP500['Date'][i][8:10])).isoweekday()\n",
      "print(SP500.head())\n",
      "\n",
      "# fill out the days of the weeks\n",
      "\n",
      "#print(SP500.tail()) = 0 to 16146\n",
      "#len(SP500['Day']) = 16147\n",
      "\n",
      "rate = [None]*(len(SP500['Day'])-1)\n",
      "\n",
      "def compute_rate(SP500, rate):\n",
      "    for i in range(0, len(SP500['Day'])-1):\n",
      "        rate[i] = SP500['Open'][i]/SP500['Adj Close'][i+1]\n",
      "    return rate\n",
      "\n",
      "compute_rate(SP500, rate)\n",
      "#print(rate[-9:]) # open/close rate list\n",
      "\n",
      "# nosetesting\n",
      "\n",
      "def test_1(): # if index 1 is correct\n",
      "    print 'before'\n",
      "    abc = [None]*(len(SP500['Day'])-1)\n",
      "    result = compute_rate(SP500, abc)[1]\n",
      "    print 'after'\n",
      "    assert result == 1.0000747101\n",
      "\n",
      "def test_2(): # if index 88 is correct\n",
      "    abc = [None]*(len(SP500['Day'])-1)\n",
      "    result = compute_rate(SP500, abc)[88]\n",
      "    assert result == 0.999801110372\n",
      "\n",
      "def test_3(): # if index 777 is correct\n",
      "    abc = [None]*(len(SP500['Day'])-1)\n",
      "    result = compute_rate(SP500, abc)[777] \n",
      "    assert result == 1.00234814792"
     ],
     "language": "python",
     "metadata": {},
     "outputs": [
      {
       "output_type": "stream",
       "stream": "stdout",
       "text": [
        "Writing abc.py\n"
       ]
      }
     ],
     "prompt_number": 2
    },
    {
     "cell_type": "code",
     "collapsed": false,
     "input": [],
     "language": "python",
     "metadata": {},
     "outputs": [],
     "prompt_number": 1
    },
    {
     "cell_type": "code",
     "collapsed": false,
     "input": [],
     "language": "python",
     "metadata": {},
     "outputs": []
    }
   ],
   "metadata": {}
  }
 ]
}