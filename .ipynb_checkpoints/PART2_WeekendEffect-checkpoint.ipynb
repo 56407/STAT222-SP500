{
 "metadata": {
  "name": ""
 },
 "nbformat": 3,
 "nbformat_minor": 0,
 "worksheets": [
  {
   "cells": [
    {
     "cell_type": "code",
     "collapsed": false,
     "input": [
      "import os\n",
      "print os.getcwd()\n",
      "os.chdir(\"/Users/edwsurewin/Dropbox/Berkeley MA/222/STAT222-SP500\") # or elsewhere at which \"SP500.csv\" is stored"
     ],
     "language": "python",
     "metadata": {},
     "outputs": [
      {
       "output_type": "stream",
       "stream": "stdout",
       "text": [
        "/Users/edwsurewin/Dropbox/Berkeley MA/222/STAT222-SP500\n"
       ]
      }
     ],
     "prompt_number": 22
    },
    {
     "cell_type": "code",
     "collapsed": false,
     "input": [
      "import pandas as pd\n",
      "\n",
      "SP500 = pd.read_csv(\"SP500.csv\")\n",
      "SP500['Day'] = \"null\" # create a Day of the Week column\n",
      "print(SP500.head())"
     ],
     "language": "python",
     "metadata": {},
     "outputs": [
      {
       "output_type": "stream",
       "stream": "stdout",
       "text": [
        "         Date     Open     High      Low    Close      Volume  Adj Close   Day\n",
        "0  2014-03-06  1874.18  1881.94  1874.18  1877.03  3360450000    1877.03  null\n",
        "1  2014-03-05  1874.05  1876.53  1871.11  1873.81  3392990000    1873.81  null\n",
        "2  2014-03-04  1849.23  1876.23  1849.23  1873.91  3765770000    1873.91  null\n",
        "3  2014-03-03  1857.68  1857.68  1834.44  1845.73  3428220000    1845.73  null\n",
        "4  2014-02-28  1855.12  1867.92  1847.67  1859.45  3917450000    1859.45  null\n",
        "\n",
        "[5 rows x 8 columns]\n"
       ]
      }
     ],
     "prompt_number": 23
    },
    {
     "cell_type": "code",
     "collapsed": false,
     "input": [
      "import datetime\n",
      "\n",
      "# fill out the days of the weeks\n",
      "\n",
      "for i in range(0, len(SP500['Day'])):   \n",
      "    SP500['Day'][i] = datetime.date(int(SP500['Date'][i][0:4]), int(SP500['Date'][i][5:7]), int(SP500['Date'][i][8:10])).isoweekday()\n",
      "\n",
      "print(SP500.head())"
     ],
     "language": "python",
     "metadata": {},
     "outputs": [
      {
       "output_type": "stream",
       "stream": "stdout",
       "text": [
        "         Date     Open     High      Low    Close      Volume  Adj Close Day\n",
        "0  2014-03-06  1874.18  1881.94  1874.18  1877.03  3360450000    1877.03   4\n",
        "1  2014-03-05  1874.05  1876.53  1871.11  1873.81  3392990000    1873.81   3\n",
        "2  2014-03-04  1849.23  1876.23  1849.23  1873.91  3765770000    1873.91   2\n",
        "3  2014-03-03  1857.68  1857.68  1834.44  1845.73  3428220000    1845.73   1\n",
        "4  2014-02-28  1855.12  1867.92  1847.67  1859.45  3917450000    1859.45   5\n",
        "\n",
        "[5 rows x 8 columns]\n"
       ]
      }
     ],
     "prompt_number": 24
    },
    {
     "cell_type": "code",
     "collapsed": false,
     "input": [
      "# print(SP500.tail()) = 0 to 16146\n",
      "# len(SP500['Day']) = 16147\n",
      "\n",
      "rate = [None]*(len(SP500['Day'])-1)\n",
      "for i in range(0, len(SP500['Day'])-1):\n",
      "    rate[i] = SP500['Open'][i]/SP500['Adj Close'][i+1]\n",
      "print(rate[-9:]) # open/close rate list"
     ],
     "language": "python",
     "metadata": {},
     "outputs": [
      {
       "output_type": "stream",
       "stream": "stdout",
       "text": [
        "[1.0029994001199758, 0.99463007159904537, 0.98069046225863088, 1.0035231943628888, 0.99707259953161609, 1.0058892815076559, 1.0029533372711164, 1.0047477744807121, 1.01140456182473]\n"
       ]
      }
     ],
     "prompt_number": 4
    },
    {
     "cell_type": "code",
     "collapsed": false,
     "input": [
      "Monday = []       # dynamic list\n",
      "Tuesday = []      # create daily rate, in reference to \"close adj\" day\n",
      "Wednesday = []    # thus, control group is Friday, i.e. 5\n",
      "Thursday = []     # if the subsequent Monday is a holiday, then (Tue's open / Friday's close) = raw rate\n",
      "Friday = []       \n",
      "\n",
      "for i in range(1, len(SP500['Day'])):\n",
      "    if SP500['Day'][i] == 1:\n",
      "        Monday.append(rate[i-1])\n",
      "    else:\n",
      "        if SP500['Day'][i] == 2:\n",
      "            Tuesday.append(rate[i-1])\n",
      "        else:\n",
      "            if SP500['Day'][i] == 3:\n",
      "                Wednesday.append(rate[i-1])\n",
      "            else:\n",
      "                if SP500['Day'][i] == 4:\n",
      "                    Thursday.append(rate[i-1])\n",
      "                else:\n",
      "                    if SP500['Day'][i] == 5:\n",
      "                        Friday.append(rate[i-1])   \n",
      "                        \n",
      "NonFri = Monday + Tuesday + Wednesday + Thursday\n",
      "# for experiment Friday vs. NonFriday"
     ],
     "language": "python",
     "metadata": {},
     "outputs": [],
     "prompt_number": 5
    },
    {
     "cell_type": "code",
     "collapsed": false,
     "input": [
      "# Mann\u2013Whitney U Test \n",
      "#\n",
      "# A very general formulation is to assume that: (more efficient than T test in non-normal dist)\n",
      "#\n",
      "#\t1.\tAll the observations from both groups are independent of each other,\n",
      "#\t2.\tThe responses are ordinal (i.e. one can at least say, of any two observations, which is the greater),\n",
      "#\t3.\tThe distributions of both groups are equal under the null hypothesis, so that the probability of an observation from one population (X) exceeding an observation from the second population (Y) equals the probability of an observation from Y exceeding an observation from X. That is, there is a symmetry between populations with respect to probability of random drawing of a larger observation.\n",
      "#\t4.\tUnder the alternative hypothesis, the probability of an observation from one population (X) exceeding an observation from the second population (Y) (after exclusion of ties) is not equal to 0.5. The alternative may also be stated in terms of a one-sided test, for example: P(X\u00a0>\u00a0Y)\u00a0+\u00a00.5 P(X\u00a0=\u00a0Y) \u00a0>\u00a00.5.\n",
      "#\n",
      "# Thus, null is Friday.mean() = NonFri.mean(), and inequality otherwise\n",
      "\n",
      "import scipy.stats as stats\n",
      "u, MW_p_value = stats.mannwhitneyu(Friday, NonFri)\n",
      "print(\"two-sample wilcoxon-test p-value is\", MW_p_value)\n",
      "\n",
      "# p_value < 0.01 => alternative hypothesis:\n",
      "# they don't have the same mean at the 1% significance level"
     ],
     "language": "python",
     "metadata": {},
     "outputs": [
      {
       "output_type": "stream",
       "stream": "stdout",
       "text": [
        "('two-sample wilcoxon-test p-value is', 8.4610351316632644e-10)\n"
       ]
      }
     ],
     "prompt_number": 6
    },
    {
     "cell_type": "code",
     "collapsed": false,
     "input": [
      "t_statistic, TSTAT_p_value = stats.ttest_ind(Friday, NonFri)\n",
      "print(\"similarly in two-sample t-test, p-value is\", TSTAT_p_value)"
     ],
     "language": "python",
     "metadata": {},
     "outputs": [
      {
       "output_type": "stream",
       "stream": "stdout",
       "text": [
        "('similarly in two-sample t-test, p-value is', 4.5505231151121348e-11)\n"
       ]
      }
     ],
     "prompt_number": 7
    },
    {
     "cell_type": "code",
     "collapsed": false,
     "input": [
      "print(\"Mean of Fridays is\", sum(Friday)/len(Friday), \"and mean of NonFris is\", sum(NonFri)/len(NonFri))"
     ],
     "language": "python",
     "metadata": {},
     "outputs": [
      {
       "output_type": "stream",
       "stream": "stdout",
       "text": [
        "('Mean of Fridays is', 0.99975613717243206, 'and mean of NonFris is', 1.0001738422200073)\n"
       ]
      }
     ],
     "prompt_number": 8
    },
    {
     "cell_type": "code",
     "collapsed": false,
     "input": [
      "# The Kruskal-Wallis H-test tests the null hypothesis \n",
      "# that the population median of all of the groups are equal. \n",
      "# It is a non-parametric version of ANOVA. \n",
      "\n",
      "u, ANOVA_p_value = stats.mstats.kruskalwallis(Friday, NonFri) # Chi-square degree of freedom 1\n",
      "print(\"one-way ANOVA Kruskal Wallis test p-value is\", ANOVA_p_value)\n",
      "\n",
      "# p_value < 0.01 => alternative hypothesis:\n",
      "# they don't have the same median at the 1% significance level"
     ],
     "language": "python",
     "metadata": {},
     "outputs": [
      {
       "output_type": "stream",
       "stream": "stdout",
       "text": [
        "('one-way ANOVA Kruskal Wallis test p-value is', 1.0339141676325991e-11)\n"
       ]
      }
     ],
     "prompt_number": 9
    },
    {
     "cell_type": "code",
     "collapsed": false,
     "input": [
      "%pylab inline\n",
      "\n",
      "plt.plot(Friday+Friday+Friday+Friday, 'bx', label='Friday * 4')\n",
      "plt.hold(True)\n",
      "plt.plot(NonFri, 'ro', label='L->R: M, T, W, T')\n",
      "plt.legend(loc=0)\n",
      "\n",
      "# Mann\u2013Whitney: Friday vs. Mon, Tues, Wed, and Thur"
     ],
     "language": "python",
     "metadata": {},
     "outputs": [
      {
       "output_type": "stream",
       "stream": "stdout",
       "text": [
        "Populating the interactive namespace from numpy and matplotlib\n"
       ]
      },
      {
       "output_type": "stream",
       "stream": "stderr",
       "text": [
        "WARNING: pylab import has clobbered these variables: ['rate']\n",
        "`%pylab --no-import-all` prevents importing * from pylab and numpy\n"
       ]
      },
      {
       "metadata": {},
       "output_type": "pyout",
       "prompt_number": 10,
       "text": [
        "<matplotlib.legend.Legend at 0x109477e90>"
       ]
      },
      {
       "metadata": {},
       "output_type": "display_data",
       "png": "[encoded data removed]",
       "text": [
        "<matplotlib.figure.Figure at 0x108a3ce10>"
       ]
      }
     ],
     "prompt_number": 10
    },
    {
     "cell_type": "code",
     "collapsed": false,
     "input": [
      "# Mann\u2013Whitney U Test &  Kruskal-Wallis H-test limitation: \n",
      "#    In light of time-series data, Friday might not be independent from NonFri."
     ],
     "language": "python",
     "metadata": {},
     "outputs": [],
     "prompt_number": 11
    },
    {
     "cell_type": "code",
     "collapsed": false,
     "input": [
      "# The Friedman test tests the null hypothesis that \n",
      "# repeated measurements of the same individuals have the same distribution.\n",
      "\n",
      "# All of the arrays must have the same number of elements. \n",
      "print(len(Friday), len(Monday), len(Tuesday), len(Wednesday), len(Thursday))"
     ],
     "language": "python",
     "metadata": {},
     "outputs": [
      {
       "output_type": "stream",
       "stream": "stdout",
       "text": [
        "(3225, 3101, 3287, 3288, 3245)\n"
       ]
      }
     ],
     "prompt_number": 12
    },
    {
     "cell_type": "code",
     "collapsed": false,
     "input": [
      "# Let us ASSUME that all the missing days are of no information\n",
      "# In order to apply Friedman test, measurements must have equal length, hence,\n",
      "\n",
      "FridayFM = Friday + [NaN]*63\n",
      "MondayFM = Monday + [NaN]*187\n",
      "TuesdayFM = Tuesday + [NaN]*1\n",
      "WednesdayFM = Wednesday\n",
      "ThursdayFM = Thursday + [NaN]*43\n",
      "\n",
      "print(len(FridayFM), len(MondayFM), len(TuesdayFM), len(WednesdayFM), len(ThursdayFM))"
     ],
     "language": "python",
     "metadata": {},
     "outputs": [
      {
       "output_type": "stream",
       "stream": "stdout",
       "text": [
        "(3288, 3288, 3288, 3288, 3288)\n"
       ]
      }
     ],
     "prompt_number": 13
    },
    {
     "cell_type": "code",
     "collapsed": false,
     "input": [
      "u, fridman_p_value = stats.mstats.friedmanchisquare(FridayFM, MondayFM, TuesdayFM, WednesdayFM, ThursdayFM)\n",
      "print(\"five-measure Friedman test p-value is\", fridman_p_value)\n",
      "\n",
      "# p_value < 0.01 => alternative hypothesis:\n",
      "# some of the measurements were taken differently at the 1% significance level"
     ],
     "language": "python",
     "metadata": {},
     "outputs": [
      {
       "output_type": "stream",
       "stream": "stdout",
       "text": [
        "('five-measure Friedman test p-value is', 3.4047535242592549e-09)\n"
       ]
      }
     ],
     "prompt_number": 14
    },
    {
     "cell_type": "code",
     "collapsed": false,
     "input": [
      "u, p_value = stats.mstats.friedmanchisquare(MondayFM, TuesdayFM, WednesdayFM, ThursdayFM)\n",
      "print(\"four-measure (excluding Friday) Friedman test p-value is\", p_value)\n",
      "\n",
      "# p_value > 0.01 => null hypothesis:\n",
      "# null is not rejected at the 1% significance level, measurements consistant"
     ],
     "language": "python",
     "metadata": {},
     "outputs": [
      {
       "output_type": "stream",
       "stream": "stdout",
       "text": [
        "('four-measure (excluding Friday) Friedman test p-value is', 0.033221743671097717)\n"
       ]
      }
     ],
     "prompt_number": 15
    },
    {
     "cell_type": "code",
     "collapsed": false,
     "input": [
      "# Friedman Test limitation: \n",
      "#    Due to the assumption that the test statistic has a chi squared distribution, \n",
      "#    the p-value is only reliable for n > 10 and more than 6 repeated measurements."
     ],
     "language": "python",
     "metadata": {},
     "outputs": [],
     "prompt_number": 16
    },
    {
     "cell_type": "code",
     "collapsed": false,
     "input": [
      "# By CLT, mean is asymptotically normal with var = /sigma^{2} over n\n",
      "z = (mean(Friday)-1)/sqrt(var(Friday)/len(Friday))\n",
      "\n",
      "# Null:    mean(Friday) = 1\n",
      "# Alter:   mean(Friday) != 1\n",
      "\n",
      "print(\"z-score is\", z)"
     ],
     "language": "python",
     "metadata": {},
     "outputs": [
      {
       "output_type": "stream",
       "stream": "stdout",
       "text": [
        "('z-score is', -3.512885819614858)\n"
       ]
      }
     ],
     "prompt_number": 17
    },
    {
     "cell_type": "code",
     "collapsed": false,
     "input": [
      "# By CLT, mean is asymptotically normal with var = /sigma^{2} over n\n",
      "z= (mean(Friday+NonFri)-1)/sqrt(var(Friday+NonFri)/len(Friday+NonFri))\n",
      "\n",
      "# Null:    mean(weekdays) = 1\n",
      "# Alter:   mean(weekdays) != 1\n",
      "\n",
      "print(\"z-score is\", z)"
     ],
     "language": "python",
     "metadata": {},
     "outputs": [
      {
       "output_type": "stream",
       "stream": "stdout",
       "text": [
        "('z-score is', 3.5628076338192805)\n"
       ]
      }
     ],
     "prompt_number": 18
    },
    {
     "cell_type": "code",
     "collapsed": false,
     "input": [
      "plt.hist(Friday, bins=25, normed=True, alpha=.5)\n",
      "plt.hist(NonFri+Friday, bins=25, normed=True, alpha=.5)\n",
      "\n",
      "# multi normalized histogram of Friday and NonFriday"
     ],
     "language": "python",
     "metadata": {},
     "outputs": [
      {
       "metadata": {},
       "output_type": "pyout",
       "prompt_number": 19,
       "text": [
        "(array([  1.39393251e-02,   0.00000000e+00,   1.39393251e-02,\n",
        "         0.00000000e+00,   0.00000000e+00,   0.00000000e+00,\n",
        "         2.78786503e-02,   4.18179754e-02,   5.57573005e-02,\n",
        "         1.67271902e-01,   2.64847178e-01,   7.80602207e-01,\n",
        "         2.21635270e+00,   6.83026932e+00,   1.83971213e+02,\n",
        "         2.00586889e+01,   7.16481312e+00,   2.27211000e+00,\n",
        "         7.66662882e-01,   2.09089877e-01,   1.25453926e-01,\n",
        "         2.78786503e-02,   4.18179754e-02,   0.00000000e+00,\n",
        "         1.39393251e-02]),\n",
        " array([ 0.93381547,  0.93825865,  0.94270182,  0.94714499,  0.95158817,\n",
        "        0.95603134,  0.96047452,  0.96491769,  0.96936086,  0.97380404,\n",
        "        0.97824721,  0.98269038,  0.98713356,  0.99157673,  0.99601991,\n",
        "        1.00046308,  1.00490625,  1.00934943,  1.0137926 ,  1.01823577,\n",
        "        1.02267895,  1.02712212,  1.0315653 ,  1.03600847,  1.04045164,\n",
        "        1.04489482]),\n",
        " <a list of 25 Patch objects>)"
       ]
      },
      {
       "metadata": {},
       "output_type": "display_data",
       "png": "[encoded data removed]",
       "text": [
        "<matplotlib.figure.Figure at 0x109487e90>"
       ]
      }
     ],
     "prompt_number": 19
    },
    {
     "cell_type": "code",
     "collapsed": false,
     "input": [
      "from sklearn.neighbors import KernelDensity\n",
      "kde = KernelDensity(bandwidth=.001, algorithm='auto', kernel='tophat', metric='euclidean', atol=0, rtol=0, breadth_first=True, leaf_size=40, metric_params=None)\n",
      "# kernel estimation with tophat as spike-like histogram\n",
      "\n",
      "\n",
      "kde.fit(Friday+NonFri)\n",
      "ker100 = kde.sample(n_samples=100, random_state=None)\n",
      "\n",
      "sample = []\n",
      "for i in range(0, len(ker100)):\n",
      "    sample = sample + ker100.tolist()[0]\n",
      "\n",
      "plt.hist(Friday+NonFri, bins=25, normed=True, alpha=.5)\n",
      "plt.hist(sample, bins=25, normed=True, alpha=.5)  # settled down to Friday's"
     ],
     "language": "python",
     "metadata": {},
     "outputs": [
      {
       "metadata": {},
       "output_type": "pyout",
       "prompt_number": 20,
       "text": [
        "(array([  1.39412544e-02,   0.00000000e+00,   1.39412544e-02,\n",
        "         0.00000000e+00,   0.00000000e+00,   0.00000000e+00,\n",
        "         2.78825088e-02,   4.18237632e-02,   5.57650176e-02,\n",
        "         1.67295053e-01,   2.64883833e-01,   7.80710246e-01,\n",
        "         2.21665945e+00,   6.83121465e+00,   1.83968793e+02,\n",
        "         2.00893476e+01,   7.15186350e+00,   2.28636572e+00,\n",
        "         7.66768991e-01,   2.09118816e-01,   1.25471290e-01,\n",
        "         2.78825088e-02,   4.18237632e-02,   0.00000000e+00,\n",
        "         1.39412544e-02]),\n",
        " array([ 0.93382088,  0.93826344,  0.942706  ,  0.94714856,  0.95159112,\n",
        "        0.95603368,  0.96047624,  0.96491879,  0.96936135,  0.97380391,\n",
        "        0.97824647,  0.98268903,  0.98713159,  0.99157415,  0.99601671,\n",
        "        1.00045927,  1.00490183,  1.00934438,  1.01378694,  1.0182295 ,\n",
        "        1.02267206,  1.02711462,  1.03155718,  1.03599974,  1.0404423 ,\n",
        "        1.04488486]),\n",
        " <a list of 25 Patch objects>)"
       ]
      },
      {
       "metadata": {},
       "output_type": "display_data",
       "png": "[encoded data removed]",
       "text": [
        "<matplotlib.figure.Figure at 0x1098a5fd0>"
       ]
      }
     ],
     "prompt_number": 20
    },
    {
     "cell_type": "code",
     "collapsed": false,
     "input": [
      "MonteCarloBoot = kde.sample(n_samples=1000, random_state=None)"
     ],
     "language": "python",
     "metadata": {},
     "outputs": [],
     "prompt_number": 21
    },
    {
     "cell_type": "code",
     "collapsed": false,
     "input": [
      "BootMean = [None]*len(MonteCarloBoot)\n",
      "for i in range(0, len(MonteCarloBoot)):\n",
      "    BootMean[i] = MonteCarloBoot[i].mean()\n",
      "\n",
      "# Bootstrapping with T = mean(obs)\n",
      "# v_boot = 1/B * B_sum(T - mean(T))^2\n",
      "\n",
      "Boot_var = std(BootMean)\n",
      "\n",
      "print(\"Monte Carlo Bootstrapping with mean\", mean(BootMean), \"variance\", Boot_var)"
     ],
     "language": "python",
     "metadata": {},
     "outputs": [
      {
       "output_type": "stream",
       "stream": "stdout",
       "text": [
        "('Monte Carlo Bootstrapping with mean', 1.0000904101597428, 'variance', 6.2214259612096557e-08)\n"
       ]
      }
     ],
     "prompt_number": 22
    },
    {
     "cell_type": "code",
     "collapsed": false,
     "input": [
      "plt.hist(BootMean, bins=25)"
     ],
     "language": "python",
     "metadata": {},
     "outputs": [
      {
       "metadata": {},
       "output_type": "pyout",
       "prompt_number": 23,
       "text": [
        "(array([   4.,    4.,   11.,   17.,   32.,   46.,   60.,   68.,   80.,\n",
        "        110.,  111.,  117.,   78.,   71.,   61.,   35.,   38.,   26.,\n",
        "         12.,    6.,    6.,    3.,    1.,    0.,    3.]),\n",
        " array([ 1.00009024,  1.00009025,  1.00009027,  1.00009029,  1.0000903 ,\n",
        "        1.00009032,  1.00009033,  1.00009035,  1.00009037,  1.00009038,\n",
        "        1.0000904 ,  1.00009042,  1.00009043,  1.00009045,  1.00009046,\n",
        "        1.00009048,  1.0000905 ,  1.00009051,  1.00009053,  1.00009054,\n",
        "        1.00009056,  1.00009058,  1.00009059,  1.00009061,  1.00009062,\n",
        "        1.00009064]),\n",
        " <a list of 25 Patch objects>)"
       ]
      },
      {
       "metadata": {},
       "output_type": "display_data",
       "png": "[encoded data removed]",
       "text": [
        "<matplotlib.figure.Figure at 0x109a17410>"
       ]
      }
     ],
     "prompt_number": 23
    },
    {
     "cell_type": "code",
     "collapsed": false,
     "input": [
      "from sklearn.neighbors import KernelDensity\n",
      "kdeF = KernelDensity(bandwidth=.001, algorithm='auto', kernel='tophat', metric='euclidean', atol=0, rtol=0, breadth_first=True, leaf_size=40, metric_params=None)\n",
      "# kernel estimation with tophat as spike-like histogram\n",
      "\n",
      "kdeF.fit(Friday)\n",
      "FriBoot = kdeF.sample(n_samples=1000, random_state=None)\n",
      "\n",
      "FriBootMean = [None]*len(FriBoot)\n",
      "for i in range(0, len(FriBoot)):\n",
      "    FriBootMean[i] = FriBoot[i].mean()\n",
      "    \n",
      "plt.hist(FriBootMean, bins=25)"
     ],
     "language": "python",
     "metadata": {},
     "outputs": [
      {
       "metadata": {},
       "output_type": "pyout",
       "prompt_number": 26,
       "text": [
        "(array([   1.,    0.,    1.,    3.,    7.,    9.,   13.,   40.,   55.,\n",
        "         70.,   90.,   89.,  125.,   81.,  102.,   90.,   80.,   46.,\n",
        "         32.,   37.,   12.,    7.,    5.,    2.,    3.]),\n",
        " array([ 0.99975501,  0.99975509,  0.99975518,  0.99975526,  0.99975535,\n",
        "        0.99975544,  0.99975552,  0.99975561,  0.9997557 ,  0.99975578,\n",
        "        0.99975587,  0.99975595,  0.99975604,  0.99975613,  0.99975621,\n",
        "        0.9997563 ,  0.99975639,  0.99975647,  0.99975656,  0.99975664,\n",
        "        0.99975673,  0.99975682,  0.9997569 ,  0.99975699,  0.99975708,\n",
        "        0.99975716]),\n",
        " <a list of 25 Patch objects>)"
       ]
      },
      {
       "metadata": {},
       "output_type": "display_data",
       "png": "[encoded data removed]",
       "text": [
        "<matplotlib.figure.Figure at 0x10723ce50>"
       ]
      }
     ],
     "prompt_number": 26
    },
    {
     "cell_type": "code",
     "collapsed": false,
     "input": [
      "pyplot.hist(FriBootMean, 25, alpha=0.5)\n",
      "pyplot.hist(BootMean, 25, alpha=0.5)\n",
      "pyplot.show()"
     ],
     "language": "python",
     "metadata": {},
     "outputs": [
      {
       "metadata": {},
       "output_type": "display_data",
       "png": "[encoded data removed]",
       "text": [
        "<matplotlib.figure.Figure at 0x107256750>"
       ]
      }
     ],
     "prompt_number": 27
    },
    {
     "cell_type": "code",
     "collapsed": false,
     "input": [
      "data = {'Test': ['Mann\u2013Whitney U Test', 'Kruskal-Wallis H-test', 'T Statistic', 'Fridman'],\n",
      "        'Intro': ['independent, ordinal, dist equal under null', 'one-way ANOVA assumptions', 'student\"s t-tests, dof > 30', 'repeated measurements same dist?'],\n",
      "        'P Value': [MW_p_value, ANOVA_p_value, TSTAT_p_value, fridman_p_value],\n",
      "        'Significance': [.01, .01, .01, .01],\n",
      "        'Comments': ['assumed independent','assumed iid, same var, normal', 'N/A','assumed missing NaN']}\n",
      "football = pd.DataFrame(data, columns=['Test', 'Intro', 'P Value', 'Significance', 'Comments'])\n",
      "print (football)"
     ],
     "language": "python",
     "metadata": {},
     "outputs": [
      {
       "output_type": "stream",
       "stream": "stdout",
       "text": [
        "                    Test                                        Intro  \\\n",
        "0    Mann\u2013Whitney U Test  independent, ordinal, dist equal under null   \n",
        "1  Kruskal-Wallis H-test                    one-way ANOVA assumptions   \n",
        "2            T Statistic                  student\"s t-tests, dof > 30   \n",
        "3                Fridman             repeated measurements same dist?   \n",
        "\n",
        "        P Value  Significance                       Comments  \n",
        "0  8.461035e-10          0.01            assumed independent  \n",
        "1  1.033914e-11          0.01  assumed iid, same var, normal  \n",
        "2  4.550523e-11          0.01                            N/A  \n",
        "3  3.404754e-09          0.01            assumed missing NaN  \n",
        "\n",
        "[4 rows x 5 columns]\n"
       ]
      }
     ],
     "prompt_number": 25
    }
   ],
   "metadata": {}
  }
 ]
}