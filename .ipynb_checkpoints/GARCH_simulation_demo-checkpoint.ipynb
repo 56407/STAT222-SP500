{
 "metadata": {
  "name": ""
 },
 "nbformat": 3,
 "nbformat_minor": 0,
 "worksheets": [
  {
   "cells": [
    {
     "cell_type": "code",
     "collapsed": false,
     "input": [
      "import rpy2 as rpy2"
     ],
     "language": "python",
     "metadata": {},
     "outputs": [],
     "prompt_number": 1
    },
    {
     "cell_type": "code",
     "collapsed": false,
     "input": [
      "import pandas as pd\n",
      "import pandas.rpy.common as rpy"
     ],
     "language": "python",
     "metadata": {},
     "outputs": [],
     "prompt_number": 2
    },
    {
     "cell_type": "code",
     "collapsed": false,
     "input": [
      "%load_ext rmagic"
     ],
     "language": "python",
     "metadata": {},
     "outputs": [],
     "prompt_number": 3
    },
    {
     "cell_type": "code",
     "collapsed": false,
     "input": [
      "import os\n",
      "print os.getcwd()\n",
      "os.chdir(\"/Users/edwsurewin/Dropbox/Berkeley MA/222/STAT222-SP500\")"
     ],
     "language": "python",
     "metadata": {},
     "outputs": [
      {
       "output_type": "stream",
       "stream": "stdout",
       "text": [
        "/Users/edwsurewin/Dropbox/Berkeley MA/222/STAT222-SP500\n"
       ]
      }
     ],
     "prompt_number": 4
    },
    {
     "cell_type": "code",
     "collapsed": false,
     "input": [
      "att = pd.read_csv(\"SP500.csv\")\n",
      "print(att.head())"
     ],
     "language": "python",
     "metadata": {},
     "outputs": [
      {
       "output_type": "stream",
       "stream": "stdout",
       "text": [
        "         Date     Open     High      Low    Close      Volume  Adj Close\n",
        "0  2014-03-06  1874.18  1881.94  1874.18  1877.03  3360450000    1877.03\n",
        "1  2014-03-05  1874.05  1876.53  1871.11  1873.81  3392990000    1873.81\n",
        "2  2014-03-04  1849.23  1876.23  1849.23  1873.91  3765770000    1873.91\n",
        "3  2014-03-03  1857.68  1857.68  1834.44  1845.73  3428220000    1845.73\n",
        "4  2014-02-28  1855.12  1867.92  1847.67  1859.45  3917450000    1859.45\n",
        "\n",
        "[5 rows x 7 columns]\n"
       ]
      }
     ],
     "prompt_number": 5
    },
    {
     "cell_type": "code",
     "collapsed": false,
     "input": [
      "%%R\n",
      "abc = read.csv(\"SP500.csv\")\n",
      "print(mean(abc$Open))\n",
      "typeof(abc)"
     ],
     "language": "python",
     "metadata": {},
     "outputs": [
      {
       "metadata": {},
       "output_type": "display_data",
       "text": [
        "[1] 440.6348\n"
       ]
      }
     ],
     "prompt_number": 6
    },
    {
     "cell_type": "code",
     "collapsed": false,
     "input": [
      "%%R\n",
      "\n",
      "#install.packages(\"fGarch\")\n",
      "library(fGarch)\n",
      "\n",
      "## Univariate GARCH Time Series Fitting\n",
      "\n",
      "# example 1\n",
      "fit = garchFit(~garch(1, 1), data = garchSim())\n",
      "\n",
      "# example 2\n",
      "x.vec = as.vector(garchSim(garchSpec(rseed = 1985), n = 200)[,1])\n",
      "garchFit(~ garch(1,1), data = x.vec, trace = FALSE)"
     ],
     "language": "python",
     "metadata": {},
     "outputs": [
      {
       "metadata": {},
       "output_type": "display_data",
       "text": [
        "Loading required package: timeDate\n",
        "Loading required package: timeSeries\n",
        "Loading required package: fBasics\n",
        "Loading required package: MASS\n",
        "\n",
        "Attaching package: \u2018fBasics\u2019\n",
        "\n",
        "The following object is masked from \u2018package:base\u2019:\n",
        "\n",
        "    norm\n",
        "\n",
        "\n",
        "Series Initialization:\n",
        " ARMA Model:                arma\n",
        " Formula Mean:              ~ arma(0, 0)\n",
        " GARCH Model:               garch\n",
        " Formula Variance:          ~ garch(1, 1)\n",
        " ARMA Order:                0 0\n",
        " Max ARMA Order:            0\n",
        " GARCH Order:               1 1\n",
        " Max GARCH Order:           1\n",
        " Maximum Order:             1\n",
        " Conditional Dist:          norm\n",
        " h.start:                   2\n",
        " llh.start:                 1\n",
        " Length of Series:          100\n",
        " Recursion Init:            mci\n",
        " Series Scale:              0.003314069\n",
        "\n",
        "Parameter Initialization:\n",
        " Initial Parameters:          $params\n",
        " Limits of Transformations:   $U, $V\n",
        " Which Parameters are Fixed?  $includes\n",
        " Parameter Matrix:\n",
        "                     U          V     params includes\n",
        "    mu     -2.45874450   2.458745 -0.2458745     TRUE\n",
        "    omega   0.00000100 100.000000  0.1000000     TRUE\n",
        "    alpha1  0.00000001   1.000000  0.1000000     TRUE\n",
        "    gamma1 -0.99999999   1.000000  0.1000000    FALSE\n",
        "    beta1   0.00000001   1.000000  0.8000000     TRUE\n",
        "    delta   0.00000000   2.000000  2.0000000    FALSE\n",
        "    skew    0.10000000  10.000000  1.0000000    FALSE\n",
        "    shape   1.00000000  10.000000  4.0000000    FALSE\n",
        " Index List of Parameters to be Optimized:\n",
        "    mu  omega alpha1  beta1 \n",
        "     1      2      3      5 \n",
        " Persistence:                  0.9 \n",
        "\n",
        "\n",
        "--- START OF TRACE ---\n",
        "Selected Algorithm: nlminb \n",
        "\n",
        "R coded nlminb Solver: \n",
        "\n",
        "  0:     136.99880: -0.245874 0.100000 0.100000 0.800000\n",
        "  1:     136.79488: -0.245774 0.0899098 0.104692 0.795255\n",
        "  2:     136.62133: -0.245647 0.0870258 0.116171 0.797739\n",
        "  3:     136.59787: -0.245371 0.0662697 0.123637 0.787827\n",
        "  4:     136.30643: -0.245298 0.0723893 0.132099 0.793941\n",
        "  5:     136.12143: -0.244381 0.0470987 0.160578 0.788365\n",
        "  6:     136.11709: -0.240800 0.0668561 0.186438 0.773383\n",
        "  7:     135.92168: -0.239333 0.0648994 0.189559 0.755363\n",
        "  8:     135.88743: -0.235045 0.0602936 0.195221 0.751286\n",
        "  9:     135.83677: -0.227999 0.0690866 0.211731 0.733276\n",
        " 10:     135.79887: -0.218601 0.0635138 0.212224 0.735095\n",
        " 11:     135.79144: -0.215319 0.0594642 0.211904 0.746479\n",
        " 12:     135.76569: -0.212874 0.0649783 0.235658 0.721599\n",
        " 13:     135.74643: -0.195169 0.0599923 0.241023 0.718217\n",
        " 14:     135.74261: -0.198337 0.0616719 0.250472 0.711127\n",
        " 15:     135.74249: -0.197825 0.0625653 0.250562 0.710355\n",
        " 16:     135.74244: -0.197614 0.0626003 0.251723 0.709268\n",
        " 17:     135.74244: -0.197582 0.0626808 0.252071 0.708872\n",
        " 18:     135.74244: -0.197586 0.0626903 0.252079 0.708854\n",
        "\n",
        "Final Estimate of the Negative LLH:\n",
        " LLH:  -435.2154    norm LLH:  -4.352154 \n",
        "           mu         omega        alpha1         beta1 \n",
        "-6.548141e-04  6.885312e-07  2.520789e-01  7.088541e-01 \n",
        "\n",
        "R-optimhess Difference Approximated Hessian Matrix:\n",
        "                  mu         omega        alpha1         beta1\n",
        "mu     -1.426299e+07 -1.448781e+09  8.483045e+02 -6.105256e+03\n",
        "omega  -1.448781e+09 -1.038508e+13 -5.012598e+07 -7.445630e+07\n",
        "alpha1  8.483045e+02 -5.012598e+07 -4.042136e+02 -5.076005e+02\n",
        "beta1  -6.105256e+03 -7.445630e+07 -5.076005e+02 -6.980487e+02\n",
        "attr(,\"time\")\n",
        "Time difference of 0.01230407 secs\n",
        "\n",
        "--- END OF TRACE ---\n",
        "\n",
        "\n",
        "Time to Estimate Parameters:\n",
        " Time difference of 0.0613699 secs\n"
       ]
      }
     ],
     "prompt_number": 8
    },
    {
     "cell_type": "code",
     "collapsed": false,
     "input": [
      "%%R\n",
      "\n",
      "## garchSim - Univariate GARCH/APARCH Time Series Simulation\n",
      "  \n",
      "## garchSpec - Univariate GARCH Time Series Speci\ufb01cation\n",
      "  \n",
      "  \n",
      "# GARCH(1,1) - specify omega/alpha/beta\n",
      "spec = garchSpec(model = list(omega = 1e-6, alpha = 0.1, beta = 0.8))\n",
      "print(garchSim(spec, n = 10))\n",
      "\n",
      "# AR([1,5])-GARCH(1,1) - use default garch values and subset ar[.]\n",
      "spec = garchSpec(model = list(mu = 0.001, ar = c(0.5,0,0,0,0.1)))\n",
      "print(garchSim(spec, n = 10))\n",
      "\n",
      "# ARMA(1,2)-GARCH(1,1) - use default garch values\n",
      "spec = garchSpec(model = list(ar = 0.5, ma = c(0.3, -0.3)))\n",
      "print(garchSim(spec, n = 10))"
     ],
     "language": "python",
     "metadata": {},
     "outputs": [
      {
       "metadata": {},
       "output_type": "display_data",
       "text": [
        "GMT \n",
        "                  garch\n",
        "2014-03-05  0.001378768\n",
        "2014-03-06  0.003401551\n",
        "2014-03-07  0.001033013\n",
        "2014-03-08 -0.001665288\n",
        "2014-03-09  0.001078765\n",
        "2014-03-10  0.006944675\n",
        "2014-03-11 -0.000227700\n",
        "2014-03-12 -0.005805007\n",
        "2014-03-13 -0.002758322\n",
        "2014-03-14  0.001168333\n",
        "GMT \n",
        "                  garch\n",
        "2014-03-05 -0.005187680\n",
        "2014-03-06 -0.001442509\n",
        "2014-03-07 -0.006327775\n",
        "2014-03-08 -0.006298998\n",
        "2014-03-09 -0.002665760\n",
        "2014-03-10 -0.002073035\n",
        "2014-03-11  0.004190278\n",
        "2014-03-12  0.009978573\n",
        "2014-03-13  0.007223852\n",
        "2014-03-14  0.004565425\n",
        "GMT \n",
        "                   garch\n",
        "2014-03-05  0.0046839503\n",
        "2014-03-06  0.0050008915\n",
        "2014-03-07  0.0053745241\n",
        "2014-03-08  0.0037038438\n",
        "2014-03-09 -0.0002935223\n",
        "2014-03-10  0.0031708958\n",
        "2014-03-11  0.0038146985\n",
        "2014-03-12 -0.0044106690\n",
        "2014-03-13 -0.0080251008\n",
        "2014-03-14 -0.0060853836\n"
       ]
      }
     ],
     "prompt_number": 15
    },
    {
     "cell_type": "code",
     "collapsed": false,
     "input": [
      "%%R\n",
      "\n",
      "\n",
      "## volatility-methods\n",
      "  \n",
      "## Swiss Pension func Index -\n",
      "x = as.timeSeries(data(LPP2005REC))\n",
      "## garchFit\n",
      "fit = garchFit(LPP40 ~ garch(1, 1), data = 100*x, trace = FALSE)\n",
      "print(fit)\n",
      "## volatility -\n",
      "# Standard Deviation:\n",
      "volatility = volatility(fit, type = \"sigma\")\n",
      "print(head(volatility))\n",
      "print(class(volatility))\n",
      "# Variance:\n",
      "volatility = volatility(fit, type = \"h\")\n",
      "print(head(volatility))\n",
      "print(class(volatility))\n"
     ],
     "language": "python",
     "metadata": {},
     "outputs": [
      {
       "metadata": {},
       "output_type": "display_data",
       "text": [
        "\n",
        "Title:\n",
        " GARCH Modelling \n",
        "\n",
        "Call:\n",
        " garchFit(formula = LPP40 ~ garch(1, 1), data = 100 * x, trace = FALSE) \n",
        "\n",
        "Mean and Variance Equation:\n",
        " LPP40 ~ garch(1, 1)\n",
        " [data = 100 * x]\n",
        "\n",
        "Conditional Distribution:\n",
        " norm \n",
        "\n",
        "Coefficient(s):\n",
        "       mu      omega     alpha1      beta1  \n",
        "0.0491045  0.0083931  0.0881844  0.8016406  \n",
        "\n",
        "Std. Errors:\n",
        " based on Hessian \n",
        "\n",
        "Error Analysis:\n",
        "        Estimate  Std. Error  t value Pr(>|t|)    \n",
        "mu      0.049104    0.013478    3.643 0.000269 ***\n",
        "omega   0.008393    0.003493    2.403 0.016268 *  \n",
        "alpha1  0.088184    0.035316    2.497 0.012524 *  \n",
        "beta1   0.801641    0.071544   11.205  < 2e-16 ***\n",
        "---\n",
        "Signif. codes:  0 \u2018***\u2019 0.001 \u2018**\u2019 0.01 \u2018*\u2019 0.05 \u2018.\u2019 0.1 \u2018 \u2019 1\n",
        "\n",
        "Log Likelihood:\n",
        " -38.61265    normalized:  -0.1024208 \n",
        "\n",
        "Description:\n",
        " Sat Mar 15 06:24:22 2014 by user:  \n",
        "\n",
        "[1] 0.2805121 0.2674818 0.2608402 0.2645372 0.2603407 0.2558201\n",
        "[1] \"numeric\"\n",
        "[1] 0.07868705 0.07154651 0.06803759 0.06997992 0.06777728 0.06544394\n",
        "[1] \"numeric\"\n"
       ]
      }
     ],
     "prompt_number": 20
    },
    {
     "cell_type": "code",
     "collapsed": false,
     "input": [],
     "language": "python",
     "metadata": {},
     "outputs": []
    }
   ],
   "metadata": {}
  }
 ]
}