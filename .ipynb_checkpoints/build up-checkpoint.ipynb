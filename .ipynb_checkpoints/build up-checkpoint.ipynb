{
 "metadata": {
  "name": ""
 },
 "nbformat": 3,
 "nbformat_minor": 0,
 "worksheets": [
  {
   "cells": [
    {
     "cell_type": "code",
     "collapsed": false,
     "input": [
      "import os\n",
      "print os.getcwd()\n",
      "os.chdir(\"/Users/BiweiTao/STAT222-SP500/\")\n",
      "\n",
      "from pandas import read_csv\n",
      "df = read_csv(\"daily.csv\", )\n",
      "Date= tuple(df['Date'])\n",
      "Price= tuple(df['Adj Close'])\n",
      "\n",
      "price = range(16143)\n",
      "date = range(16143)\n",
      "for x in range(16143):\n",
      "\tprice[x] = Price[16142-x]\n",
      "\tdate[x] = Date[16142-x]\n",
      "\n",
      "from decimal import *\n",
      "getcontext().prec= 6\n",
      "enddate = 2014 + Decimal(59)/Decimal(365)\n",
      "begindate = 1950 + Decimal(3)/Decimal(365)\n",
      "gap = (enddate - begindate)/(len(date)-1)\n",
      "numdate = range(len(date))\n",
      "for i in range(len(date)):\n",
      "\tnumdate[i] = begindate + i * gap\n",
      "\n",
      "sprice = range(16143)\n",
      "import numpy\n",
      "for x in range(16143):\n",
      "\tif x-60 < 0:\n",
      "\t\tsprice[x] = numpy.mean(price[0:x+60])\n",
      "\telse: \n",
      "\t\tif x+60 > 16142:\n",
      "\t\t\tsprice[x] = numpy.mean(price[x-60:16142])\n",
      "\t\telse:\n",
      "\t\t\tsprice[x] = numpy.mean(price[x-60:x+60])\n",
      "\n",
      "from pylab import *\n",
      "plot(numdate,sprice)\n",
      "#show()\n",
      "\n",
      "maxprice = range(0)\n",
      "maxdate = range(0)\n",
      "maxobs = range(0)\n",
      "for i in range(16143):\n",
      "\tmax = 0\n",
      "\tif i-180 < 0:\n",
      "\t\ta = sprice[0:i-1] + sprice[i+1:i+180]\n",
      "\telse:\n",
      "\t\tif i+180 > 16142:\n",
      "\t\t\ta = sprice[i-180:i-1] + sprice[i+1:16142]\n",
      "\t\telse:\n",
      "\t\t\ta = sprice[i-180:i-1] + sprice[i+1:i+180]\n",
      "\tfor number in a:\n",
      "\t\tif number > max:\n",
      "\t\t\tmax = number\n",
      "\tif sprice[i] > max:\n",
      "\t\tmaxprice = maxprice + [sprice[i]]\n",
      "\t\tmaxdate = maxdate + [numdate[i]]\n",
      "\t\tmaxobs = maxobs + [i]\n",
      "\n",
      "minprice = range(0)\n",
      "mindate = range(0)\n",
      "minobs = range(0)\n",
      "for i in range(16143):\n",
      "\tmin = 2000\n",
      "\tif i-180 < 0:\n",
      "\t\ta = sprice[0:i-1] + sprice[i+1:i+180]\n",
      "\telse:\n",
      "\t\tif i+180 > 16142:\n",
      "\t\t\ta = sprice[i-180:i-1] + sprice[i+1:16142]\n",
      "\t\telse:\n",
      "\t\t\ta = sprice[i-180:i-1] + sprice[i+1:i+180]\n",
      "\tfor number in a:\n",
      "\t\tif number < min:\n",
      "\t\t\tmin = number\n",
      "\tif sprice[i] < min:\n",
      "\t\tminprice = minprice + [sprice[i]]\n",
      "\t\tmindate = mindate + [numdate[i]]\n",
      "\t\tminobs = minobs + [i]\n",
      "\n",
      "\n",
      "\n",
      "from pylab import *\n",
      "plot(numdate,sprice)\n",
      "plot(maxdate, maxprice, \"o\", label=\"max\")\n",
      "plot(mindate, minprice, \"o\", label=\"min\")\n",
      "legend()\n",
      "show()\n",
      "\n",
      "rreturn = range(len(price)-1)\n",
      "for i in range(len(price)-1):\n",
      "\trreturn[i]=(price[i+1] - price[i])/price[i]\n",
      "\n",
      "preev = price[12697:14493]\n",
      "postev = price[14494:15431]\n",
      "\n",
      "\n",
      "\n",
      "prerr = rreturn[12697:14493]\n",
      "postrr = rreturn[14494:15430]\n",
      "\n",
      "predate = numdate[12697:14493]\n",
      "postdate = numdate[14494:15431]\n",
      "plot(predate+postdate,preev+postev)\n",
      "axvline(maxdate[len(maxdate)-5], color='k')\n",
      "ylabel('years')\n",
      "show()\n",
      "\n",
      "# Following codes are not conformable on (1,1,1). So i use (2,2,2)\n",
      "#p = 2\n",
      "#d = 2\n",
      "#q = 2\n",
      "import statsmodels.api as sm\n",
      "from statsmodels import *\n",
      "#modelagg = tsa.arima_model.ARIMA(preev+postev, [p, d, q],freq='M').fit()\n",
      "#modelpre = tsa.arima_model.ARIMA(preev, [p, d, q],freq='M').fit()\n",
      "#modelpost = tsa.arima_model.ARIMA(postev, [p, d, q],freq='M').fit()\n",
      "type(preev)\n",
      "rpreev=robjects.ListVector(preev)"
     ],
     "language": "python",
     "metadata": {},
     "outputs": [
      {
       "ename": "TypeError",
       "evalue": "list indices must be integers, not numpy.float64",
       "output_type": "pyerr",
       "traceback": [
        "\u001b[0;31m---------------------------------------------------------------------------\u001b[0m\n\u001b[0;31mTypeError\u001b[0m                                 Traceback (most recent call last)",
        "\u001b[0;32m<ipython-input-38-c29026445cd1>\u001b[0m in \u001b[0;36m<module>\u001b[0;34m()\u001b[0m\n\u001b[1;32m    116\u001b[0m \u001b[0;31m#modelpost = tsa.arima_model.ARIMA(postev, [p, d, q],freq='M').fit()\u001b[0m\u001b[0;34m\u001b[0m\u001b[0;34m\u001b[0m\u001b[0m\n\u001b[1;32m    117\u001b[0m \u001b[0mtype\u001b[0m\u001b[0;34m(\u001b[0m\u001b[0mpreev\u001b[0m\u001b[0;34m)\u001b[0m\u001b[0;34m\u001b[0m\u001b[0m\n\u001b[0;32m--> 118\u001b[0;31m \u001b[0mrpreev\u001b[0m\u001b[0;34m=\u001b[0m\u001b[0mrobjects\u001b[0m\u001b[0;34m.\u001b[0m\u001b[0mListVector\u001b[0m\u001b[0;34m(\u001b[0m\u001b[0mpreev\u001b[0m\u001b[0;34m)\u001b[0m\u001b[0;34m\u001b[0m\u001b[0m\n\u001b[0m",
        "\u001b[0;32m/Users/BiweiTao/anaconda/lib/python2.7/site-packages/rpy2-2.3.9-py2.7-macosx-10.5-x86_64.egg/rpy2/robjects/vectors.pyc\u001b[0m in \u001b[0;36m__init__\u001b[0;34m(self, tlist)\u001b[0m\n\u001b[1;32m    509\u001b[0m             \u001b[0;32mif\u001b[0m \u001b[0;32mnot\u001b[0m \u001b[0mcallable\u001b[0m\u001b[0;34m(\u001b[0m\u001b[0mtlist\u001b[0m\u001b[0;34m.\u001b[0m\u001b[0m__iter__\u001b[0m\u001b[0;34m)\u001b[0m\u001b[0;34m:\u001b[0m\u001b[0;34m\u001b[0m\u001b[0m\n\u001b[1;32m    510\u001b[0m                 \u001b[0;32mraise\u001b[0m \u001b[0mValueError\u001b[0m\u001b[0;34m(\u001b[0m\u001b[0;34m\"tlist should have a /method/ __iter__ (not an attribute)\"\u001b[0m\u001b[0;34m)\u001b[0m\u001b[0;34m\u001b[0m\u001b[0m\n\u001b[0;32m--> 511\u001b[0;31m             \u001b[0mkv\u001b[0m \u001b[0;34m=\u001b[0m \u001b[0;34m[\u001b[0m\u001b[0;34m(\u001b[0m\u001b[0mstr\u001b[0m\u001b[0;34m(\u001b[0m\u001b[0mk\u001b[0m\u001b[0;34m)\u001b[0m\u001b[0;34m,\u001b[0m \u001b[0mconversion\u001b[0m\u001b[0;34m.\u001b[0m\u001b[0mpy2ri\u001b[0m\u001b[0;34m(\u001b[0m\u001b[0mtlist\u001b[0m\u001b[0;34m[\u001b[0m\u001b[0mk\u001b[0m\u001b[0;34m]\u001b[0m\u001b[0;34m)\u001b[0m\u001b[0;34m)\u001b[0m \u001b[0;32mfor\u001b[0m \u001b[0mk\u001b[0m \u001b[0;32min\u001b[0m \u001b[0mtlist\u001b[0m\u001b[0;34m]\u001b[0m\u001b[0;34m\u001b[0m\u001b[0m\n\u001b[0m\u001b[1;32m    512\u001b[0m             \u001b[0mkv\u001b[0m \u001b[0;34m=\u001b[0m \u001b[0mtuple\u001b[0m\u001b[0;34m(\u001b[0m\u001b[0mkv\u001b[0m\u001b[0;34m)\u001b[0m\u001b[0;34m\u001b[0m\u001b[0m\n\u001b[1;32m    513\u001b[0m             \u001b[0mdf\u001b[0m \u001b[0;34m=\u001b[0m \u001b[0mbaseenv_ri\u001b[0m\u001b[0;34m.\u001b[0m\u001b[0mget\u001b[0m\u001b[0;34m(\u001b[0m\u001b[0;34m\"list\"\u001b[0m\u001b[0;34m)\u001b[0m\u001b[0;34m.\u001b[0m\u001b[0mrcall\u001b[0m\u001b[0;34m(\u001b[0m\u001b[0mkv\u001b[0m\u001b[0;34m,\u001b[0m \u001b[0mglobalenv_ri\u001b[0m\u001b[0;34m)\u001b[0m\u001b[0;34m\u001b[0m\u001b[0m\n",
        "\u001b[0;31mTypeError\u001b[0m: list indices must be integers, not numpy.float64"
       ]
      },
      {
       "output_type": "stream",
       "stream": "stdout",
       "text": [
        "/Users/BiweiTao/STAT222-SP500\n"
       ]
      }
     ],
     "prompt_number": 38
    },
    {
     "cell_type": "code",
     "collapsed": false,
     "input": [
      "import rpy2 as rpy2\n",
      "%load_ext rmagic\n",
      "import rpy2.robjects as robjects\n",
      "from rpy2 import robjects\n",
      "robjects.r"
     ],
     "language": "python",
     "metadata": {},
     "outputs": [
      {
       "output_type": "stream",
       "stream": "stdout",
       "text": [
        "The rmagic extension is already loaded. To reload it, use:\n",
        "  %reload_ext rmagic\n"
       ]
      },
      {
       "metadata": {},
       "output_type": "pyout",
       "prompt_number": 50,
       "text": [
        "<rpy2.robjects.R at 0x10e319550>"
       ]
      }
     ],
     "prompt_number": 50
    },
    {
     "cell_type": "code",
     "collapsed": false,
     "input": [
      "%%R\n",
      "rpreev"
     ],
     "language": "python",
     "metadata": {},
     "outputs": [
      {
       "output_type": "stream",
       "stream": "stdout",
       "text": [
        "Error in eval(expr, envir, enclos) : object 'rpreev' not found\n"
       ]
      }
     ],
     "prompt_number": 32
    },
    {
     "cell_type": "code",
     "collapsed": false,
     "input": [
      "p=1\n",
      "d=0\n",
      "q=1\n",
      "modelpost2 = tsa.arima_model.ARIMA(postev, [p, d, q],freq='M').fit()"
     ],
     "language": "python",
     "metadata": {},
     "outputs": []
    },
    {
     "cell_type": "code",
     "collapsed": false,
     "input": [
      "modelpre2.summary()"
     ],
     "language": "python",
     "metadata": {},
     "outputs": [
      {
       "html": [
        "<table class=\"simpletable\">\n",
        "<caption>ARMA Model Results</caption>\n",
        "<tr>\n",
        "  <th>Dep. Variable:</th>         <td>y</td>        <th>  No. Observations:  </th>   <td>1796</td>   \n",
        "</tr>\n",
        "<tr>\n",
        "  <th>Model:</th>            <td>ARMA(1, 1)</td>    <th>  Log Likelihood     </th> <td>-7004.452</td>\n",
        "</tr>\n",
        "<tr>\n",
        "  <th>Method:</th>             <td>css-mle</td>     <th>  S.D. of innovations</th>  <td>11.936</td>  \n",
        "</tr>\n",
        "<tr>\n",
        "  <th>Date:</th>          <td>Sat, 15 Mar 2014</td> <th>  AIC                </th> <td>14016.904</td>\n",
        "</tr>\n",
        "<tr>\n",
        "  <th>Time:</th>              <td>18:37:01</td>     <th>  BIC                </th> <td>14038.877</td>\n",
        "</tr>\n",
        "<tr>\n",
        "  <th>Sample:</th>                <td>0</td>        <th>  HQIC               </th> <td>14025.016</td>\n",
        "</tr>\n",
        "<tr>\n",
        "  <th></th>                       <td> </td>        <th>                     </th>     <td> </td>    \n",
        "</tr>\n",
        "</table>\n",
        "<table class=\"simpletable\">\n",
        "<tr>\n",
        "     <td></td>        <th>coef</th>     <th>std err</th>      <th>z</th>      <th>P>|z|</th> <th>[95.0% Conf. Int.]</th> \n",
        "</tr>\n",
        "<tr>\n",
        "  <th>const</th>   <td> 1292.5804</td> <td>  132.923</td> <td>    9.724</td> <td> 0.000</td> <td> 1032.056  1553.105</td>\n",
        "</tr>\n",
        "<tr>\n",
        "  <th>ar.L1.y</th> <td>    0.9983</td> <td>    0.001</td> <td>  811.567</td> <td> 0.000</td> <td>    0.996     1.001</td>\n",
        "</tr>\n",
        "<tr>\n",
        "  <th>ma.L1.y</th> <td>   -0.0424</td> <td>    0.025</td> <td>   -1.691</td> <td> 0.091</td> <td>   -0.092     0.007</td>\n",
        "</tr>\n",
        "</table>\n",
        "<table class=\"simpletable\">\n",
        "<caption>Roots</caption>\n",
        "<tr>\n",
        "    <td></td>   <th>           Real</th> <th>         Imaginary</th> <th>         Modulus</th> <th>        Frequency</th>\n",
        "</tr>\n",
        "<tr>\n",
        "  <th>AR.1</th>               1.0017                    +0.0000j                    1.0017                    0.0000     \n",
        "</tr>\n",
        "<tr>\n",
        "  <th>MA.1</th>              23.5871                    +0.0000j                   23.5871                    0.0000     \n",
        "</tr>\n",
        "</table>"
       ],
       "metadata": {},
       "output_type": "pyout",
       "prompt_number": 6,
       "text": [
        "<class 'statsmodels.iolib.summary.Summary'>\n",
        "\"\"\"\n",
        "                              ARMA Model Results                              \n",
        "==============================================================================\n",
        "Dep. Variable:                      y   No. Observations:                 1796\n",
        "Model:                     ARMA(1, 1)   Log Likelihood               -7004.452\n",
        "Method:                       css-mle   S.D. of innovations             11.936\n",
        "Date:                Sat, 15 Mar 2014   AIC                          14016.904\n",
        "Time:                        18:37:01   BIC                          14038.877\n",
        "Sample:                             0   HQIC                         14025.016\n",
        "                                                                              \n",
        "==============================================================================\n",
        "                 coef    std err          z      P>|z|      [95.0% Conf. Int.]\n",
        "------------------------------------------------------------------------------\n",
        "const       1292.5804    132.923      9.724      0.000      1032.056  1553.105\n",
        "ar.L1.y        0.9983      0.001    811.567      0.000         0.996     1.001\n",
        "ma.L1.y       -0.0424      0.025     -1.691      0.091        -0.092     0.007\n",
        "                                    Roots                                    \n",
        "=============================================================================\n",
        "                 Real           Imaginary           Modulus         Frequency\n",
        "-----------------------------------------------------------------------------\n",
        "AR.1            1.0017           +0.0000j            1.0017            0.0000\n",
        "MA.1           23.5871           +0.0000j           23.5871            0.0000\n",
        "-----------------------------------------------------------------------------\n",
        "\"\"\""
       ]
      }
     ],
     "prompt_number": 6
    },
    {
     "cell_type": "code",
     "collapsed": false,
     "input": [
      "p=1\n",
      "d=1\n",
      "q=1\n",
      "modelpost2 = tsa.arima_model.ARIMA(postev, [p, d, q],freq='M').fit()"
     ],
     "language": "python",
     "metadata": {},
     "outputs": [],
     "prompt_number": 7
    },
    {
     "cell_type": "code",
     "collapsed": false,
     "input": [
      "modelpost2.summary()"
     ],
     "language": "python",
     "metadata": {},
     "outputs": [
      {
       "html": [
        "<table class=\"simpletable\">\n",
        "<caption>ARIMA Model Results</caption>\n",
        "<tr>\n",
        "  <th>Dep. Variable:</th>        <td>D.y</td>       <th>  No. Observations:  </th>    <td>936</td>   \n",
        "</tr>\n",
        "<tr>\n",
        "  <th>Model:</th>          <td>ARIMA(1, 1, 1)</td>  <th>  Log Likelihood     </th> <td>-4044.155</td>\n",
        "</tr>\n",
        "<tr>\n",
        "  <th>Method:</th>             <td>css-mle</td>     <th>  S.D. of innovations</th>  <td>18.206</td>  \n",
        "</tr>\n",
        "<tr>\n",
        "  <th>Date:</th>          <td>Sat, 15 Mar 2014</td> <th>  AIC                </th> <td>8096.310</td> \n",
        "</tr>\n",
        "<tr>\n",
        "  <th>Time:</th>              <td>18:37:02</td>     <th>  BIC                </th> <td>8115.677</td> \n",
        "</tr>\n",
        "<tr>\n",
        "  <th>Sample:</th>                <td>1</td>        <th>  HQIC               </th> <td>8103.695</td> \n",
        "</tr>\n",
        "<tr>\n",
        "  <th></th>                       <td> </td>        <th>                     </th>     <td> </td>    \n",
        "</tr>\n",
        "</table>\n",
        "<table class=\"simpletable\">\n",
        "<tr>\n",
        "      <td></td>         <th>coef</th>     <th>std err</th>      <th>z</th>      <th>P>|z|</th> <th>[95.0% Conf. Int.]</th> \n",
        "</tr>\n",
        "<tr>\n",
        "  <th>const</th>     <td>   -0.0903</td> <td>    0.473</td> <td>   -0.191</td> <td> 0.849</td> <td>   -1.016     0.836</td>\n",
        "</tr>\n",
        "<tr>\n",
        "  <th>ar.L1.D.y</th> <td>    0.2611</td> <td>    0.153</td> <td>    1.712</td> <td> 0.087</td> <td>   -0.038     0.560</td>\n",
        "</tr>\n",
        "<tr>\n",
        "  <th>ma.L1.D.y</th> <td>   -0.4135</td> <td>    0.143</td> <td>   -2.893</td> <td> 0.004</td> <td>   -0.694    -0.133</td>\n",
        "</tr>\n",
        "</table>\n",
        "<table class=\"simpletable\">\n",
        "<caption>Roots</caption>\n",
        "<tr>\n",
        "    <td></td>   <th>           Real</th> <th>         Imaginary</th> <th>         Modulus</th> <th>        Frequency</th>\n",
        "</tr>\n",
        "<tr>\n",
        "  <th>AR.1</th>               3.8293                    +0.0000j                    3.8293                    0.0000     \n",
        "</tr>\n",
        "<tr>\n",
        "  <th>MA.1</th>               2.4186                    +0.0000j                    2.4186                    0.0000     \n",
        "</tr>\n",
        "</table>"
       ],
       "metadata": {},
       "output_type": "pyout",
       "prompt_number": 8,
       "text": [
        "<class 'statsmodels.iolib.summary.Summary'>\n",
        "\"\"\"\n",
        "                             ARIMA Model Results                              \n",
        "==============================================================================\n",
        "Dep. Variable:                    D.y   No. Observations:                  936\n",
        "Model:                 ARIMA(1, 1, 1)   Log Likelihood               -4044.155\n",
        "Method:                       css-mle   S.D. of innovations             18.206\n",
        "Date:                Sat, 15 Mar 2014   AIC                           8096.310\n",
        "Time:                        18:37:02   BIC                           8115.677\n",
        "Sample:                             1   HQIC                          8103.695\n",
        "                                                                              \n",
        "==============================================================================\n",
        "                 coef    std err          z      P>|z|      [95.0% Conf. Int.]\n",
        "------------------------------------------------------------------------------\n",
        "const         -0.0903      0.473     -0.191      0.849        -1.016     0.836\n",
        "ar.L1.D.y      0.2611      0.153      1.712      0.087        -0.038     0.560\n",
        "ma.L1.D.y     -0.4135      0.143     -2.893      0.004        -0.694    -0.133\n",
        "                                    Roots                                    \n",
        "=============================================================================\n",
        "                 Real           Imaginary           Modulus         Frequency\n",
        "-----------------------------------------------------------------------------\n",
        "AR.1            3.8293           +0.0000j            3.8293            0.0000\n",
        "MA.1            2.4186           +0.0000j            2.4186            0.0000\n",
        "-----------------------------------------------------------------------------\n",
        "\"\"\""
       ]
      }
     ],
     "prompt_number": 8
    },
    {
     "cell_type": "code",
     "collapsed": false,
     "input": [
      "import rpy2 as rpy2\n",
      "%load_ext rmagic"
     ],
     "language": "python",
     "metadata": {},
     "outputs": [
      {
       "output_type": "stream",
       "stream": "stdout",
       "text": [
        "The rmagic extension is already loaded. To reload it, use:\n",
        "  %reload_ext rmagic\n"
       ]
      }
     ],
     "prompt_number": 39
    },
    {
     "cell_type": "code",
     "collapsed": false,
     "input": [
      "%%R\n",
      "library(forecast)"
     ],
     "language": "python",
     "metadata": {},
     "outputs": [
      {
       "metadata": {},
       "output_type": "display_data",
       "text": [
        "Loading required package: zoo\n",
        "\n",
        "Attaching package: \u2018zoo\u2019\n",
        "\n",
        "The following objects are masked from \u2018package:base\u2019:\n",
        "\n",
        "    as.Date, as.Date.numeric\n",
        "\n",
        "Loading required package: timeDate\n",
        "This is forecast 5.2 \n",
        "\n"
       ]
      }
     ],
     "prompt_number": 3
    },
    {
     "cell_type": "code",
     "collapsed": false,
     "input": [],
     "language": "python",
     "metadata": {},
     "outputs": [
      {
       "ename": "AttributeError",
       "evalue": "'SignatureTranslatedPackage' object has no attribute 'plot'",
       "output_type": "pyerr",
       "traceback": [
        "\u001b[0;31m---------------------------------------------------------------------------\u001b[0m\n\u001b[0;31mAttributeError\u001b[0m                            Traceback (most recent call last)",
        "\u001b[0;32m<ipython-input-5-936d4baa5497>\u001b[0m in \u001b[0;36m<module>\u001b[0;34m()\u001b[0m\n\u001b[1;32m      4\u001b[0m \u001b[0mstats\u001b[0m \u001b[0;34m=\u001b[0m \u001b[0mimportr\u001b[0m\u001b[0;34m(\u001b[0m\u001b[0;34m'stats'\u001b[0m\u001b[0;34m)\u001b[0m\u001b[0;34m\u001b[0m\u001b[0m\n\u001b[1;32m      5\u001b[0m \u001b[0;34m\u001b[0m\u001b[0m\n\u001b[0;32m----> 6\u001b[0;31m \u001b[0mres\u001b[0m \u001b[0;34m=\u001b[0m \u001b[0mstats\u001b[0m\u001b[0;34m.\u001b[0m\u001b[0mplot\u001b[0m\u001b[0;34m(\u001b[0m\u001b[0mforecast\u001b[0m\u001b[0;34m(\u001b[0m\u001b[0mobject\u001b[0m\u001b[0;34m=\u001b[0m\u001b[0mpreev\u001b[0m\u001b[0;34m,\u001b[0m \u001b[0mh\u001b[0m\u001b[0;34m=\u001b[0m\u001b[0;36m5000\u001b[0m\u001b[0;34m)\u001b[0m\u001b[0;34m)\u001b[0m\u001b[0;34m\u001b[0m\u001b[0m\n\u001b[0m",
        "\u001b[0;31mAttributeError\u001b[0m: 'SignatureTranslatedPackage' object has no attribute 'plot'"
       ]
      }
     ],
     "prompt_number": 5
    },
    {
     "cell_type": "code",
     "collapsed": false,
     "input": [
      "%%R\n",
      "#With Wt = Yt \u2212 Yt \u2212 1, we have Wt = \u03c61Wt\u20131 +\u03c62Wt\u20132 +...+\u03c6pWt\u2013p +et \u2013\u03b81et\u20131 \u2013\u03b82et\u20132 \u2013 ... \u2013 \u03b8qet \u2013 q\n",
      "presim <- arima.sim(list(order = c(1,0,1), ar = 0.9983, ma = -0.0424), n = 200)#A list with component ar and/or ma giving the AR and MA coefficients respectively. Optionally a component order can be used. An empty list gives an ARIMA(0, 0, 0) model, that is white noise.\n",
      "#n, length of output series, before un-differencing. A strictly positive integer.\n",
      "ts.plot(presim)"
     ],
     "language": "python",
     "metadata": {},
     "outputs": [
      {
       "metadata": {},
       "output_type": "display_data",
       "png": "[encoded data removed]"
      }
     ],
     "prompt_number": 10
    },
    {
     "cell_type": "code",
     "collapsed": false,
     "input": [
      "%%R\n",
      "#With Wt = Yt \u2212 Yt \u2212 1, we have Wt = \u03c61Wt\u20131 +\u03c62Wt\u20132 +...+\u03c6pWt\u2013p +et \u2013\u03b81et\u20131 \u2013\u03b82et\u20132 \u2013 ... \u2013 \u03b8qet \u2013 q\n",
      "postsim <- arima.sim(list(order = c(1,1,1), ar = 0.2611, ma = -0.4135), n = 200)#A list with component ar and/or ma giving the AR and MA coefficients respectively. Optionally a component order can be used. An empty list gives an ARIMA(0, 0, 0) model, that is white noise.\n",
      "#n, length of output series, before un-differencing. A strictly positive integer.\n",
      "ts.plot(postsim)"
     ],
     "language": "python",
     "metadata": {},
     "outputs": [
      {
       "metadata": {},
       "output_type": "display_data",
       "png": "[encoded data removed]"
      }
     ],
     "prompt_number": 5
    },
    {
     "cell_type": "code",
     "collapsed": false,
     "input": [
      "%%R\n",
      "install.packages(\"forecast\")\n",
      "library(\"forecast\")"
     ],
     "language": "python",
     "metadata": {},
     "outputs": [
      {
       "output_type": "stream",
       "stream": "stdout",
       "text": [
        "Error: This is R 3.0.1, package \u2018forecast\u2019 needs >= 3.0.2\n",
        "In addition: Warning message:\n",
        "package \u2018forecast\u2019 is not available (for R version 3.0.1)\n",
        "Error: This is R 3.0.1, package \u2018forecast\u2019 needs >= 3.0.2\n"
       ]
      }
     ],
     "prompt_number": 12
    },
    {
     "cell_type": "code",
     "collapsed": false,
     "input": [
      "plot(predict(object=modelpre2, h=5000))"
     ],
     "language": "python",
     "metadata": {},
     "outputs": []
    },
    {
     "cell_type": "code",
     "collapsed": false,
     "input": [
      "import rpy2.robjects as robjects\n",
      "robject.r"
     ],
     "language": "python",
     "metadata": {},
     "outputs": [
      {
       "ename": "NameError",
       "evalue": "name 'robject' is not defined",
       "output_type": "pyerr",
       "traceback": [
        "\u001b[0;31m---------------------------------------------------------------------------\u001b[0m\n\u001b[0;31mNameError\u001b[0m                                 Traceback (most recent call last)",
        "\u001b[0;32m<ipython-input-36-26bebbf7eec5>\u001b[0m in \u001b[0;36m<module>\u001b[0;34m()\u001b[0m\n\u001b[1;32m      1\u001b[0m \u001b[0;32mimport\u001b[0m \u001b[0mrpy2\u001b[0m\u001b[0;34m.\u001b[0m\u001b[0mrobjects\u001b[0m \u001b[0;32mas\u001b[0m \u001b[0mrobjects\u001b[0m\u001b[0;34m\u001b[0m\u001b[0m\n\u001b[0;32m----> 2\u001b[0;31m \u001b[0mrobject\u001b[0m\u001b[0;34m.\u001b[0m\u001b[0mr\u001b[0m\u001b[0;34m\u001b[0m\u001b[0m\n\u001b[0m",
        "\u001b[0;31mNameError\u001b[0m: name 'robject' is not defined"
       ]
      }
     ],
     "prompt_number": 36
    },
    {
     "cell_type": "code",
     "collapsed": false,
     "input": [
      "%%R\n",
      "## install.packages(\"tseries\")\n",
      "library(\"tseries\")\n",
      "dat <- diff(log(rpreev))\n",
      "dat <- ts(dat)\n",
      "dat.garch <- garch(dat)\n",
      "summary(dat.garch)    \n",
      "plot(dat.garch) "
     ],
     "language": "python",
     "metadata": {},
     "outputs": [
      {
       "output_type": "stream",
       "stream": "stdout",
       "text": [
        "Error in diff(log(rpreev)) : object 'rpreev' not found\n"
       ]
      }
     ],
     "prompt_number": 37
    },
    {
     "cell_type": "code",
     "collapsed": false,
     "input": [],
     "language": "python",
     "metadata": {},
     "outputs": [],
     "prompt_number": "*"
    }
   ],
   "metadata": {}
  }
 ]
}