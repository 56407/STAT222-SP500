{
 "metadata": {
  "name": "test suite"
 },
 "nbformat": 3,
 "nbformat_minor": 0,
 "worksheets": [
  {
   "cells": [
    {
     "cell_type": "code",
     "collapsed": false,
     "input": "%%file calc_len.py\ndef calc_len(maxprice):\n    highmaxprice = range(0)\n    for i in range(len(maxprice)):\n\tif maxprice[i] > 1000:\n\t\thighmaxprice = highmaxprice + [maxprice[i]]\n    return highmaxprice\n\ndef test_1():\n    result = calc_len([25.682, 25.681, 47.705, 58.268, 70.173, 91.905, 91.904, 102.997, 114.752, 103.464, 133.155, 133.148, 166.107, 166.107, 309.770, 467.390, 467.385, 1465.450, 1465.411, 1506.617, 1317.946, 1317.928, 1814.799, 1814.949])\n    print 'hello, this is a test; the value of result is', len(result)\n    assert len(result) < 10",
     "language": "python",
     "metadata": {},
     "outputs": [
      {
       "output_type": "stream",
       "stream": "stdout",
       "text": "Writing calc_len.py\n"
      }
     ],
     "prompt_number": 1
    },
    {
     "cell_type": "markdown",
     "metadata": {},
     "source": "I intended to have less than 10 local maxima after meaningful era, say above a thound in index, so that I can explicitly denote which dates are the beginings of crises and the others are not. So I made a test function that actually produce the number of index above a thound so if it is above ten, then it produce some message to warn that I ought to reduce local maxima by smoothing more. I used the max price vector produced from my original codes and just tested it directly."
    }
   ],
   "metadata": {}
  }
 ]
}