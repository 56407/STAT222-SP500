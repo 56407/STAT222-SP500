{
 "metadata": {
  "name": ""
 },
 "nbformat": 3,
 "nbformat_minor": 0,
 "worksheets": [
  {
   "cells": [
    {
     "cell_type": "markdown",
     "metadata": {},
     "source": [
      "# <center> Weekend Effect"
     ]
    },
    {
     "cell_type": "code",
     "collapsed": false,
     "input": [
      "import os\n",
      "print os.getcwd()\n",
      "os.chdir(\"/Users/edwsurewin/Dropbox/Berkeley MA/222/STAT222-SP500\") # or elsewhere at which \"SP500.csv\" is stored"
     ],
     "language": "python",
     "metadata": {},
     "outputs": [
      {
       "output_type": "stream",
       "stream": "stdout",
       "text": [
        "/Users/edwsurewin/Dropbox/Berkeley MA/222/STAT222-SP500\n"
       ]
      }
     ],
     "prompt_number": 1
    },
    {
     "cell_type": "code",
     "collapsed": false,
     "input": [
      "import pandas as pd\n",
      "\n",
      "SP500 = pd.read_csv(\"daily.csv\")\n",
      "SP500['Day'] = \"null\" # create a Day of the Week column\n",
      "SP500['WeekNum'] = \"null\" \n",
      "print(SP500.head())"
     ],
     "language": "python",
     "metadata": {},
     "outputs": [
      {
       "output_type": "stream",
       "stream": "stdout",
       "text": [
        "         Date     Open     High      Low    Close      Volume  Adj Close  \\\n",
        "0  2014-02-28  1855.12  1867.92  1847.67  1859.45  3917450000    1859.45   \n",
        "1  2014-02-27  1844.90  1854.53  1841.13  1854.29  3547460000    1854.29   \n",
        "2  2014-02-26  1845.79  1852.65  1840.66  1845.16  3716730000    1845.16   \n",
        "3  2014-02-25  1847.66  1852.91  1840.19  1845.12  3515560000    1845.12   \n",
        "4  2014-02-24  1836.78  1858.71  1836.78  1847.61  4014530000    1847.61   \n",
        "\n",
        "    Day WeekNum  \n",
        "0  null    null  \n",
        "1  null    null  \n",
        "2  null    null  \n",
        "3  null    null  \n",
        "4  null    null  \n",
        "\n",
        "[5 rows x 9 columns]\n"
       ]
      }
     ],
     "prompt_number": 2
    },
    {
     "cell_type": "markdown",
     "metadata": {},
     "source": [
      "# Define a quantity of interest:  \n",
      "                  \n",
      "                  overnight return = (the quotient of) Day Opening / Previous Day's Adj Close\n",
      "                   \n",
      "Therefore, during any given ordinary week without holidays (i.e. non-trading days), we have five overnight returns. "
     ]
    },
    {
     "cell_type": "code",
     "collapsed": false,
     "input": [
      "# print(SP500.tail()) = 0 to 16146\n",
      "# len(SP500['Day']) = 16147\n",
      "\n",
      "#rate = [np.NaN]*(len(SP500['Day'])-1)\n",
      "\n",
      "#create an array and fill in \n",
      "#def compute_rate(SP500, rate):\n",
      "#    for i in range(0, len(SP500['Day'])-1):\n",
      "#        rate[i] = SP500['Open'][i]/SP500['Adj Close'][i+1]\n",
      "#    return rate\n",
      "\n",
      "#rate = compute_rate(SP500, rate)\n",
      "\n",
      "# last 9 items in open/close rate list\n",
      "#print(rate[-9:]) "
     ],
     "language": "python",
     "metadata": {},
     "outputs": [],
     "prompt_number": 3
    },
    {
     "cell_type": "markdown",
     "metadata": {},
     "source": [
      "With newly created \"Day\" and \"WeekNum\" columns in the SP500 dataframe, we would like to fill in the cells with corresponding Day of the Week, and Week ID. Note that analysis would be done by week against another week."
     ]
    },
    {
     "cell_type": "code",
     "collapsed": false,
     "input": [
      "import datetime\n",
      "\n",
      "# fill out the days of the weeks\n",
      "# 1: Monday, 2: Tuesday, ..., 5: Friday\n",
      "# numerate week from 1 to 3348, in reverse order\n",
      "\n",
      "for i in range(0, len(SP500['Day'])):   \n",
      "    SP500['Day'][i] = datetime.date(int(SP500['Date'][i][0:4]), int(SP500['Date'][i][5:7]), int(SP500['Date'][i][8:10])).isoweekday()\n",
      "    SP500['WeekNum'][i] = float(datetime.date(int(SP500['Date'][i][0:4]), int(SP500['Date'][i][5:7]), int(SP500['Date'][i][8:10])).isocalendar()[1])\n",
      "\n",
      "\n",
      "for i in range(0, len(SP500['Day'])-1):   \n",
      "    if SP500['WeekNum'][i] == 1:\n",
      "        if SP500['WeekNum'][i+1] == 52:\n",
      "            for j in range(0,i+1):\n",
      "                SP500['WeekNum'][j] = float(SP500['WeekNum'][j]) + 52\n",
      "        if SP500['WeekNum'][i+1] == 53:\n",
      "            for j in range(0,i+1):\n",
      "                SP500['WeekNum'][j] = float(SP500['WeekNum'][j]) + 53"
     ],
     "language": "python",
     "metadata": {},
     "outputs": [],
     "prompt_number": 4
    },
    {
     "cell_type": "code",
     "collapsed": false,
     "input": [
      "#print(SP500[280:330])\n",
      "print(SP500[6620:6650])"
     ],
     "language": "python",
     "metadata": {},
     "outputs": [
      {
       "output_type": "stream",
       "stream": "stdout",
       "text": [
        "            Date    Open    High     Low   Close     Volume  Adj Close Day  \\\n",
        "6620  1987-11-23  242.00  242.99  240.50  242.99  143160000     242.99   1   \n",
        "6621  1987-11-20  240.04  242.01  235.89  242.00  189170000     242.00   5   \n",
        "6622  1987-11-19  245.54  245.55  239.70  240.05  157140000     240.05   4   \n",
        "6623  1987-11-18  243.09  245.55  240.67  245.55  158270000     245.55   3   \n",
        "6624  1987-11-17  246.73  246.76  240.81  243.04  148240000     243.04   2   \n",
        "6625  1987-11-16  245.69  249.54  244.98  246.76  164340000     246.76   1   \n",
        "6626  1987-11-13  248.54  249.42  245.64  245.64  174920000     245.64   5   \n",
        "6627  1987-11-12  241.93  249.90  241.90  248.52  206280000     248.52   4   \n",
        "6628  1987-11-11  239.01  243.86  239.00  241.90  147850000     241.90   3   \n",
        "6629  1987-11-10  243.14  243.17  237.64  239.00  184310000     239.00   2   \n",
        "6630  1987-11-09  250.41  250.41  243.01  243.17  160690000     243.17   1   \n",
        "6631  1987-11-06  254.49  257.21  249.68  250.41  228290000     250.41   5   \n",
        "6632  1987-11-05  248.93  256.09  247.72  254.48  226000000     254.48   4   \n",
        "6633  1987-11-04  250.81  251.00  246.34  248.96  202500000     248.96   3   \n",
        "6634  1987-11-03  255.75  255.75  242.78  250.82  227800000     250.82   2   \n",
        "6635  1987-11-02  251.73  255.75  249.15  255.75  176000000     255.75   1   \n",
        "6636  1987-10-30  244.77  254.04  244.77  251.79  303400000     251.79   5   \n",
        "6637  1987-10-29  233.31  246.69  233.28  244.77  258100000     244.77   4   \n",
        "6638  1987-10-28  233.19  238.58  226.26  233.28  279400000     233.28   3   \n",
        "6639  1987-10-27  227.67  237.81  227.67  233.19  260200000     233.19   2   \n",
        "6640  1987-10-26  248.20  248.22  227.26  227.67  308800000     227.67   1   \n",
        "6641  1987-10-23  248.29  250.70  242.76  248.22  245600000     248.22   5   \n",
        "6642  1987-10-22  258.24  258.38  242.99  248.25  392200000     248.25   4   \n",
        "6643  1987-10-21  236.83  259.27  236.83  258.38  449600000     258.38   3   \n",
        "6644  1987-10-20  225.06  245.62  216.46  236.83  608100000     236.83   2   \n",
        "6645  1987-10-19  282.70  282.70  224.83  224.84  604300000     224.84   1   \n",
        "6646  1987-10-16  298.08  298.92  281.52  282.70  338500000     282.70   5   \n",
        "6647  1987-10-15  305.21  305.23  298.07  298.08  263200000     298.08   4   \n",
        "6648  1987-10-14  314.52  314.52  304.78  305.23  207400000     305.23   3   \n",
        "6649  1987-10-13  309.39  314.53  309.39  314.52  172900000     314.52   2   \n",
        "\n",
        "     WeekNum  \n",
        "6620    1978  \n",
        "6621    1977  \n",
        "6622    1977  \n",
        "6623    1977  \n",
        "6624    1977  \n",
        "6625    1977  \n",
        "6626    1976  \n",
        "6627    1976  \n",
        "6628    1976  \n",
        "6629    1976  \n",
        "6630    1976  \n",
        "6631    1975  \n",
        "6632    1975  \n",
        "6633    1975  \n",
        "6634    1975  \n",
        "6635    1975  \n",
        "6636    1974  \n",
        "6637    1974  \n",
        "6638    1974  \n",
        "6639    1974  \n",
        "6640    1974  \n",
        "6641    1973  \n",
        "6642    1973  \n",
        "6643    1973  \n",
        "6644    1973  \n",
        "6645    1973  \n",
        "6646    1972  \n",
        "6647    1972  \n",
        "6648    1972  \n",
        "6649    1972  \n",
        "\n",
        "[30 rows x 9 columns]\n"
       ]
      }
     ],
     "prompt_number": 63
    },
    {
     "cell_type": "markdown",
     "metadata": {},
     "source": [
      "Next, we would like to extract the everyday \"Open\" and \"Adj Close\" quotes by Day of the Week. Also, we want to preserve missing data due to holiday (i.e. nontrading) days."
     ]
    },
    {
     "cell_type": "code",
     "collapsed": false,
     "input": [],
     "language": "python",
     "metadata": {},
     "outputs": []
    },
    {
     "cell_type": "code",
     "collapsed": false,
     "input": [
      "import numpy as np\n",
      "import scipy.stats as stats\n",
      "\n",
      "Mon_open = [np.NaN]*3348\n",
      "Mon_close = [np.NaN]*3348\n",
      "Tue_open = [np.NaN]*3348\n",
      "Tue_close = [np.NaN]*3348\n",
      "Wed_open = [np.NaN]*3348\n",
      "Wed_close = [np.NaN]*3348\n",
      "Thr_open = [np.NaN]*3348\n",
      "Thr_close = [np.NaN]*3348\n",
      "Fri_open = [np.NaN]*3348\n",
      "Fri_close = [np.NaN]*3348\n",
      "\n",
      "for i in range(0, len(SP500['Day'])): # where 0 indicates 1950, 3347 indicates recent... the arrays above\n",
      "                                      # Day[0] is 5, a Friday, the most recent Friday\n",
      "    if SP500['Day'][i] == 1:\n",
      "        Mon_open[int(SP500['WeekNum'][i])-1] = SP500['Open'][i]\n",
      "        Mon_close[int(SP500['WeekNum'][i])-1] = SP500['Adj Close'][i]\n",
      "    else:\n",
      "        if SP500['Day'][i] == 2:\n",
      "            Tue_open[int(SP500['WeekNum'][i])-1] = SP500['Open'][i]\n",
      "            Tue_close[int(SP500['WeekNum'][i])-1] = SP500['Adj Close'][i]\n",
      "        else:\n",
      "            if SP500['Day'][i] == 3:\n",
      "                Wed_open[int(SP500['WeekNum'][i])-1] = SP500['Open'][i]\n",
      "                Wed_close[int(SP500['WeekNum'][i])-1] = SP500['Adj Close'][i]\n",
      "            else:\n",
      "                if SP500['Day'][i] == 4:\n",
      "                    Thr_open[int(SP500['WeekNum'][i])-1] = SP500['Open'][i]\n",
      "                    Thr_close[int(SP500['WeekNum'][i])-1] = SP500['Adj Close'][i]\n",
      "                else:\n",
      "                    if SP500['Day'][i] == 5:\n",
      "                        Fri_open[int(SP500['WeekNum'][i])-1] = SP500['Open'][i]\n",
      "                        Fri_close[int(SP500['WeekNum'][i])-1] = SP500['Adj Close'][i]\n",
      "                        \n",
      "# hence array begins from 1950...\n",
      "# print(Tue_open[:5])\n",
      "# print(SP500['Open'][0])\n",
      "# print(SP500['Day'][0]) .... i = 0, Friday, row 1\n",
      "# print(int(SP500['WeekNum'][0])-1).... filling 3347 , the last slot, at Fri\n",
      "# print(Fri_open[:5])#........ at index 0, the arrays are the last week in 1950.."
     ],
     "language": "python",
     "metadata": {},
     "outputs": [],
     "prompt_number": 6
    },
    {
     "cell_type": "code",
     "collapsed": false,
     "input": [
      "count = 0\n",
      "abc = 0\n",
      "\n",
      "for i in range(0, len(day1_eff)):\n",
      "    if day1_eff[i] > 1.12:\n",
      "        count = count + 1\n",
      "        abc = i\n",
      "       \n",
      "print(abc)"
     ],
     "language": "python",
     "metadata": {},
     "outputs": [
      {
       "output_type": "stream",
       "stream": "stdout",
       "text": [
        "1373\n"
       ]
      }
     ],
     "prompt_number": 54
    },
    {
     "cell_type": "code",
     "collapsed": false,
     "input": [
      "def comp_rate(closepri, openpri):\n",
      "    rate = [np.NaN]*3347\n",
      "    for i in range(0, 3347):\n",
      "        rate[i] = openpri[i+1] / closepri[i] # i+1 is more recent than i\n",
      "    rate = rate[::-1]\n",
      "    return rate\n",
      "\n",
      "weekend_eff = comp_rate(Fri_close, Mon_open)[0: 1039]\n",
      "day1_eff = comp_rate(Mon_close, Tue_open)#[0: 1039]\n",
      "day2_eff = comp_rate(Tue_close, Wed_open)[0: 1039]\n",
      "day3_eff = comp_rate(Wed_close, Thr_open)[0: 1039]\n",
      "day4_eff = comp_rate(Thr_close, Fri_open)[0: 1039]\n",
      "\n",
      "# by [0: 1039], we are taking the recent 20 years\n",
      "# so the first indices are recent rates, e.g. weekend_eff[0] is the recent Mon/Fri\n",
      "print(weekend_eff[0])"
     ],
     "language": "python",
     "metadata": {},
     "outputs": [
      {
       "output_type": "stream",
       "stream": "stdout",
       "text": [
        "1.00028863172\n"
       ]
      }
     ],
     "prompt_number": 51
    },
    {
     "cell_type": "code",
     "collapsed": false,
     "input": [
      "print(weekend_eff)"
     ],
     "language": "python",
     "metadata": {},
     "outputs": [
      {
       "output_type": "stream",
       "stream": "stdout",
       "text": [
        "[1.0002886317222601, nan, 0.99954368899622714, 1.0000504883343899, 1.0004133408553921, nan, 0.99939751515710751, 1.0005132769456746, 1.0000380145541437, 1.0025298077346123, 1.001216682062952, 1.0006204676775119, 1.0004097884052032, 1.0008699217624504, 1.000355915425597, 0.99963289487803642, 1.0009990690492949, 0.99980111037237829, 1.0004012611063342, 0.99803898543917324, 0.99801833776989057, 0.99734594354957884, 1.0008947839359965, 1.0021978803191962, 1.0010150014802104, nan, 1.0004749023143973, 0.99964972249566686, 0.99819678140260837, 0.99902905239022732, 0.99921378535749117, 1.0013710854623572, 0.99964289752944602, 1.0014155365864121, 1.00217894763055, 0.99770162581714728, 1.0024035949420003, 1.0007849675668439, 1.0005948219826581, nan, 0.99894450874678409, 0.99902062802228064, 0.99998761165000438, 1.0000632015370614, 1.0, 0.99999370613966077, 0.99998712402142564, nan, 1.0, 1.0, 0.99998065988473295, 1.0, 1.0, nan, 1.0, 1.0, 1.0, nan, 1.0, 1.0, 1.0, 1.0, 0.99997170305182592, 1.0, 1.0001129799884194, 1.0, 1.0, 1.0000072471645469, 0.99987271955876111, nan, 1.0000139548838605, 1.000111998544019, 1.0, 1.0001596479415829, 0.99973290415368277, 0.99976121765352011, 1.0, nan, 1.0, 0.99978140689343931, 1.0, 1.0000359456214638, 0.99997835450983785, 0.99976516519161041, 0.99979362903344682, 0.99998523636578385, 1.0001248017853996, 0.99991011370616178, 0.99968723004974547, 1.000045260474028, 1.0001956120309223, nan, 1.0003937555009961, 0.99892122743628964, 0.99977357388065158, 0.99992874244669938, 1.0, 1.0000072978850729, nan, 1.0, 1.0, 1.0, 0.99993434826059369, 0.99997079503223485, 0.99960460995504274, nan, 1.0003128165405468, 0.99956874117034711, 0.99987085305356571, 0.99993157870729354, nan, 1.000015651779216, nan, nan, 1.0000655920502435, 0.99988846310120372, 1.0000401838814414, 1.0, 0.99997532184428062, 1.0, 0.99998404123744244, 0.99989883976997729, 1.0003795679386231, 0.99991017328390153, 1.0023280771294549, 0.99981439253327675, 1.0004223753332806, 0.99916119110862578, 0.99936754373045233, nan, 1.0009432358939498, 1.0000178010378005, 1.0000424156564671, 0.99924961229968812, 1.0002398860927972, 0.99947956164220608, 0.99984804048201559, 0.99963536240511985, nan, 0.99999211636248964, 1.0, 1.0002596421658876, 1.0000769136106324, nan, 0.99984999287466148, 0.99775746204504512, 1.0, 1.0011733560182166, nan, 0.99520338263821517, 1.0006324491593697, 1.0008630976951538, 1.0012558989191658, 1.0019074272402499, 0.99763087680559392, 1.0011883586269537, 1.0013107252174438, nan, 0.99968400857690998, 1.000747595108592, 1.0001253584468088, 0.9999532473604239, nan, 0.99948092803775057, 0.99998409719792614, nan, 1.0014872458618389, 1.0017091260883586, 0.99931412334348524, 0.9997309567849334, 0.99861635534661963, 1.0010256752361972, 0.99787086511400258, 1.0020705508510388, 1.0014031172870812, 1.0005441297749511, 1.0001459039608633, 0.9988833054159687, 0.99997388283841315, 1.0008706545011949, 1.0034518498490381, nan, 0.99841253440291589, 1.0015582864447741, 0.99836923789668752, 1.0010341999215433, 1.0053830791575891, 1.0002085865089874, 1.0018499737059572, 0.99932279490890197, nan, 1.0006872469259631, 1.0047247899347655, 1.0031146940271163, 1.0009015100292988, nan, 0.99732460535630552, 1.0007396449704142, 1.0102531326515913, 1.0015926653127607, 0.9998274842271293, 0.99994128157164053, 1.0004772390465269, nan, 1.0009600630898603, 0.99771532028623144, 0.99873042374281518, 0.99973654167032588, 1.0007876938677578, 1.0007483072928405, nan, 0.99936221498982347, 1.0000186242282587, 1.0005862094233167, nan, 1.0008559101469021, nan, nan, 1.002576033814979, 1.0012924684339439, 0.99958407927810622, 0.99961520490338884, 1.0031886235774889, 1.0005944324541831, 1.0028149256522958, 0.99999034926027086, 1.0007039644312707, 1.0004964695498675, 1.0001306591755408, 1.0016191804605885, 1.0009575058886613, 0.99891416268838351, 0.99752572573916554, nan, 0.99638459370413923, 1.0004482862795161, 0.99411407343963187, 0.99842649038080911, 1.0027747397415645, 0.9993566570675817, 1.0017971458346626, 1.0005004948073664, nan, 1.0010447273914462, 0.99663493372990453, 0.99602625210048512, 0.99790445595634458, 1.004482450986792, nan, 1.0036131750634287, 0.99328476265294918, 1.0019258820311789, 0.99606340117520753, 0.99847056117755284, nan, 0.99673590504451037, 0.9915802632546511, 1.0049054050537383, 1.0030268984204613, 0.99616611548479617, 0.99249071542260137, 1.0041555743133563, nan, 0.99958553994934374, 0.99662178524725142, 1.00066109742172, nan, 1.0000561576907958, 0.99717750590255416, 0.99950733272227321, 0.99923413073838818, 1.0015231946165302, 1.007579303023731, 0.99148665536017144, 1.0014624451583067, 0.99993129430086236, 1.0061869622659749, 0.99991741935483869, 0.9971600305667393, 1.0031470947849663, 1.0150463735237205, 0.99848075471011521, 0.99653828084432972, 1.000231060968225, 0.99937684748741717, 1.0057876053481016, nan, 0.99866119795697261, 0.99995378215991382, 0.99853431251542835, 0.99441407272813831, 1.0, 1.0009042738839355, 1.0017103808824597, nan, 0.99974968319279078, 1.0013961287777045, 0.99913237208002759, 1.000110238998148, 0.99945729016409812, nan, 0.99995088925527065, 1.0008067536808138, 1.0010184595798852, 1.0000858467349627, 0.99812274783684451, 0.99952732156389046, 1.0024007589025101, 1.0005322303492952, nan, 0.99617277625102851, 0.99983763346915433, 0.99986472573142038, 0.99973394624236023, nan, 1.000473225217646, 0.99997133479525879, 1.0000676381509235, nan, 1.0013490171446517, 1.0017284982608756, 0.99780857496499809, 1.0000606281071904, 0.99802445587383759, 1.0002990708864461, 0.99898051500870955, 1.0000277642812521, 0.99860153282970232, 0.99997248400632865, 0.9973238830192428, 1.0010682090563285, 0.99810746153282282, 1.0002881290818286, 0.99930662112622715, 1.0003536924840346, 1.0, 0.99999326259053389, 0.99996560145849822, nan, 0.99999324036583137, 1.0, 0.99984865578822812, 0.99998604385022261, 0.99998629151101825, 0.99997392608043811, 1.0, 0.99999346593136618, 1.0008713872351749, 1.0, 0.99999347645980519, 0.99998010174640339, 0.99996094614473363, nan, 1.0, 0.99994023309094537, 0.99996679108938513, 1.0, 0.99998652608886041, 0.99999311697697635, nan, 0.99997888602677254, 1.0, 1.0, 0.99997148641327593, 0.99995674646943045, 0.99989663655344918, nan, 0.99995827712334673, 0.99995857469327998, 0.99989452811880342, 0.99997902831177909, nan, 0.99968078540976513, nan, nan, 0.99999299273346465, 0.99997872098961582, 0.99997136127041408, 1.0, 0.99997858978018839, 0.99976826707219912, 0.99997801070145864, 0.99997095851423756, 0.99998538652637736, 0.99999267731872699, 0.99999259034225207, 0.99997754238874126, 1.0, 1.0001439764787898, 0.99995380777876997, nan, 1.0, 1.0, 0.99994474004136613, 0.99996091795897957, 0.99998435727973101, 0.99996774947794476, 1.0, 0.99998419572020103, 0.9998897811368288, 1.0, 1.0, 0.99997604407889484, 0.99995342410457844, nan, 1.0, 0.99996127753167496, 1.0, 1.0, 1.0, nan, 1.0000077190274026, 1.0061859491686427, 1.0, 1.0, 1.0001248614817935, 1.0, 1.0, nan, 1.0, 1.0, 1.0, 1.0, nan, 1.0, nan, nan, 1.0, 1.0, 1.0, 1.0, 1.0, 1.0, 1.0, 1.0, 1.0, 1.0, 1.0, 1.0, 1.0, 1.0, 1.0, nan, 1.0, 1.0, 1.0000081275042874, 1.0, 1.0, 1.0, 1.0, 1.0, nan, 1.0, 1.0, 1.0, 1.0, nan, 1.0, 1.0, 1.0, 1.0, 1.0, 1.0, 1.0, 0.99988916550148343, nan, 1.0, 1.0, 1.0, 1.0, nan, 1.0, 1.0, 1.0, 1.0, nan, 1.0, 1.0, nan, 1.0, 1.0, 1.0, 1.0, 1.0, 1.0, 1.0, 1.0, 1.0, 1.0, 1.0, 1.0, 1.0, 1.0, 1.0, nan, 1.0, 1.0, 1.0, 1.0, 1.0, 1.0, 1.0, 1.0, nan, 1.0, 1.0, nan, 1.0, nan, 1.0, 1.0, 1.0, 1.0, 1.0, 0.99995593199425359, nan, 1.0, 1.0, 1.0, 1.0, 1.0, 1.0, 1.0, nan, 1.0, 1.0, 1.0, nan, 1.0, 1.0, 1.0, 1.0, 1.0, 1.0, 1.0, 1.0, 1.0, 1.0, 1.0, 1.0, 1.0, 1.0, 1.0, 1.0, 1.0, 1.0, 1.0, nan, 1.0, 1.0, 1.0, 1.0, 1.0, 1.0, 1.0, nan, 1.0, 1.0, 1.0, 1.0, 1.0, nan, 1.0, 1.0, 1.0, 1.0, nan, 1.0, 1.0, 1.0, 1.0, 1.0, 1.0, 1.0, 1.0, nan, 1.0, 1.0, 1.0, nan, 1.0, 1.0, 1.0, 0.99997767259087256, 1.0, 1.0, 1.0, 1.0, 1.0, 1.0, 1.0, 1.0, 1.0, 1.0, 1.0, 1.0, 1.0, 1.0, 1.0, nan, 1.0, 1.0, 1.0, 1.0, 1.0, 1.000011795930404, 1.0, 1.0, 1.0, 1.0, 1.0, 1.0, 1.0, nan, 1.0, 1.0, 1.0, 1.0, 1.0, 1.0, 1.0, nan, 1.0, 1.0, 1.0, 1.0, 1.0, nan, 1.0, 1.0, 1.0, nan, 1.0, 1.0, 1.0, 1.0, 1.0, 1.0, 1.0, 1.0, 1.0, 1.0, 1.0, 1.0, 1.0, 1.0, 0.99999066624353616, 1.0, 1.0, nan, 1.0, nan, 1.0, 1.0, 1.0, 1.0, 1.0, 1.0, 1.0, 1.0, 1.0000326695960404, 1.0, 1.0, 1.0, 1.0, nan, 1.0, 1.0, 1.0, 1.0, 1.0, nan, 1.0, 1.0, 1.0, 1.0, 1.0, 1.0, 1.0, nan, 1.0, 1.0, 0.99997785896158531, 1.0, nan, 1.0, nan, nan, 1.0, 1.0, 0.99996198383552692, 1.0, 1.0, 1.0, 1.0014509108495888, 1.0, 1.0, 1.0, 1.0, 1.0000069613159672, 1.0, 1.0, 1.0, nan, 1.0, 1.0, 1.0, 1.0, 1.0, 1.0, 1.0, 1.0, 1.0, 1.0, 1.0, 1.0, 1.0, nan, 1.0, 1.0, 1.0, 1.0, nan, 1.0, 1.0, 1.0, 1.0, 1.0, 1.0, 1.0, 1.0, nan, 1.0, 1.0, 1.0, 1.0, nan, 1.0, 1.0, nan, 1.0, 1.0, 1.0, 1.0, 1.0, 1.0, 1.0, 1.0, 1.0, 1.0, 1.0, 1.0, 1.0, 1.0, 1.0, nan, 1.0, 1.0, 1.0, 1.0, 1.0, 1.0, 1.0, 1.0, nan, 1.0, 1.0, 1.0, 1.0, nan, 1.0, 1.0, 1.0, 1.0, 1.0, 1.0, 1.0, nan, 1.0, 1.0, 1.0, 1.0, 1.0, 1.0, nan, 1.0, 1.0, 1.0, nan, 1.0, nan, nan, 1.0, 1.0, 1.0, 1.0, 1.0, 1.0, 1.0, 1.0, 1.0, 1.0, 1.0, 1.0, 1.0, 1.0, 1.0, nan, 1.0, 1.0, 1.0, 1.0, 1.0, 1.0, 1.0, 1.0, nan, 1.0, 1.0, 1.0, 1.0, 1.0, nan, 1.0, 1.0, 1.0, 1.0, 1.0, nan, 1.0, 1.0, 1.0, 1.0, 1.0, 1.0, 1.0, nan, 1.0, 1.0, 1.0, nan, 1.0, 1.0, 1.0, 1.0, 1.0, 1.0, 1.0, 1.0, 1.0, 1.0, 1.0, 1.0, 1.0, 1.0, 1.0, 1.0, 1.0, 1.0, 1.0, nan, 1.0000108279013362, 1.0, 1.0, 1.0, 1.0, 1.0, 1.0, nan, 1.0, 1.0, 1.0, 1.0, 1.0, nan, 1.0, 1.0, 1.0, 1.0, 1.0, 1.0, 1.0, nan, 1.0, 1.0, 1.0, 1.0, 1.0, nan, 1.0, 1.0, 1.0, 1.0, 1.0, 1.0, 1.0, 1.0, 1.0, 1.0, 1.0, 1.0, 1.0, 1.0, 1.0, 1.0, 1.0, 1.0, 1.0, 1.0, 1.0, 1.0, 1.0, nan, 1.0, 1.0, 1.0, 1.0, 1.0, 1.0, 1.0, 1.0, 1.0, 1.0, 1.0, 1.0, 1.0, nan, 1.0, 1.0, 1.0, 1.0, 1.0, 1.0, nan, 1.0, 1.0, 1.0, 1.0, 1.0, 1.0, nan, 1.0, 1.0, 1.0, 1.0, 1.0, 1.0, nan, nan, 1.0, 1.0, 1.0, 1.0, 1.0, 1.0, 1.0, 1.0, 1.0, 1.0, 1.0, 1.0, 1.0, 1.0, 1.0, nan, 1.0, 1.0, 1.0, 1.0, 1.0, 1.0, 1.0008037293039704, 1.0, 1.0, 1.0, 1.0, 1.0, 1.0, nan, 1.0, 1.0, 0.99994232100284552, 1.0000971420800062, 1.0, nan, 0.99976304253386516, 0.99998002835972921, 1.0, 1.0, 1.0, 1.0, 1.0003073077789841, nan, 1.0, 0.99997910790765698, 1.0, 1.0, 1.0, 0.9999782929582357, nan, nan, 0.99995640802092411, 0.99997762663325584, 1.0, 0.99993367087488105, 1.0004767373827117, 1.0001946577268304, 1.0000648957341871, 0.9999788927116533, 1.0, 1.000021317416329, 1.0000439463854098, 0.99995677638261549, 0.99995649052581193, 1.0000424457225323, 1.0, nan, 1.0001899535669059, 0.99984903381642509, 1.0000649434991558, 0.99997812247041062, 1.0000436433465718, 0.9999779303038997, 1.0005504667958429, 1.0000222444666889, nan, 0.99995483288166209, 1.0, 1.0, 1.0, nan, 1.0, 1.0000225154230649, 1.0, 1.0, 1.0000223398789179, 1.0002017123134161, 1.0000447327219861, nan]\n"
       ]
      }
     ],
     "prompt_number": 22
    },
    {
     "cell_type": "markdown",
     "metadata": {},
     "source": [
      "# Matched Pair T-test\n",
      "\n",
      "Null : u1 = u2, thus u1 - u2 = 0\n",
      "\n",
      "Alt : otherwise\n",
      "\n",
      "<center> t = ( x1_bar - x2_bar ) - 0 / s_pooled * sqrt(n)\n",
      "\n",
      "is the test statistic."
     ]
    },
    {
     "cell_type": "code",
     "collapsed": false,
     "input": [
      "def excludeNaN(values): # kicks out all the NaN, but resulting unequal length vectors\n",
      "    resultvec = []\n",
      "    for i in range(len(values)):\n",
      "        if np.isnan(values[i]) == False:\n",
      "            resultvec = resultvec + [values[i]]\n",
      "    return(resultvec)\n",
      "\n",
      "def diffunc(weekend, weekday): # taking the difference of two inputs\n",
      "    difvec = [np.NaN]*len(weekend)\n",
      "    for i in range(len(weekend)):\n",
      "        difvec[i]=weekend[i]-weekday[i] # first argument - second argument\n",
      "    return(difvec)"
     ],
     "language": "python",
     "metadata": {},
     "outputs": [],
     "prompt_number": 9
    },
    {
     "cell_type": "code",
     "collapsed": false,
     "input": [
      "# this is the NonFri + Fri... all the rates combined\n",
      "pooled_samp = excludeNaN(weekend_eff) + excludeNaN(day1_eff) + excludeNaN(day2_eff) + excludeNaN(day3_eff) + excludeNaN(day4_eff) \n",
      "#pooled_samp = weekend_eff + excludeNaN(day1_eff) + excludeNaN(day2_eff) + excludeNaN(day3_eff) + excludeNaN(day4_eff) \n",
      "\n",
      "tstat_diff_day1 = (np.mean(excludeNaN(weekend_eff))-np.mean(excludeNaN(day1_eff)))/np.sqrt(np.var(pooled_samp))\n",
      "tstat_diff_day2 = (np.mean(excludeNaN(weekend_eff))-np.mean(excludeNaN(day2_eff)))/np.sqrt(np.var(pooled_samp))\n",
      "tstat_diff_day3 = (np.mean(excludeNaN(weekend_eff))-np.mean(excludeNaN(day3_eff)))/np.sqrt(np.var(pooled_samp))\n",
      "tstat_diff_day4 = (np.mean(excludeNaN(weekend_eff))-np.mean(excludeNaN(day4_eff)))/np.sqrt(np.var(pooled_samp))\n",
      "print([tstat_diff_day1, tstat_diff_day2, tstat_diff_day3, tstat_diff_day4]) # All insignificant"
     ],
     "language": "python",
     "metadata": {},
     "outputs": [
      {
       "output_type": "stream",
       "stream": "stdout",
       "text": [
        "[-0.076268945619425432, -0.071169405734420058, -0.075332565927347106, -0.066090591119612838]\n"
       ]
      }
     ],
     "prompt_number": 10
    },
    {
     "cell_type": "code",
     "collapsed": false,
     "input": [
      "%pylab inline\n",
      "import pylab as plt\n",
      "\n",
      "# mean weekend effect, mean day 1 effect, and t statistic\n",
      "print([np.mean(excludeNaN(weekend_eff)) , np.mean(excludeNaN(day1_eff))], tstat_diff_day1)\n",
      "\n",
      "fig = plt.figure()\n",
      "ax1 = fig.add_subplot(2, 1, 1)\n",
      "ax1.plot(day1_eff, 'bx', label='Weekday 1', alpha=1) #blue\n",
      "ax1.hold(True)\n",
      "ax1.plot(weekend_eff, 'rx', label='Weekend Effect', alpha=0.4) #red\n",
      "#ax1.legend(loc=1)\n",
      "ax1.hold(False)\n",
      "\n",
      "dif_with_day1 = diffunc(weekend_eff, day1_eff)\n",
      "setbins = [-0.1,-0.09,-0.08,-0.07,-0.06,-0.05,-0.04,-0.03,-0.02,-0.01,0,0.01,0.02,0.03,0.04,0.05,0.06,0.07,0.08,0.09,0.1]\n",
      "ax2 = fig.add_subplot(2, 1, 2)\n",
      "ax2.hist(excludeNaN(dif_with_day1), bins=setbins, normed=True, alpha=.5)"
     ],
     "language": "python",
     "metadata": {},
     "outputs": [
      {
       "output_type": "stream",
       "stream": "stdout",
       "text": [
        "Populating the interactive namespace from numpy and matplotlib\n",
        "([1.0000313451176841, 1.001706534201585], -0.076268945619425432)\n"
       ]
      },
      {
       "metadata": {},
       "output_type": "pyout",
       "prompt_number": 11,
       "text": [
        "(array([  0.124533  ,   0.373599  ,   0.74719801,   0.498132  ,\n",
        "         1.24533001,   1.86799502,   4.10958904,  10.58530511,\n",
        "        14.07222914,  20.67247821,  19.6762142 ,   9.5890411 ,\n",
        "         7.47198007,   4.85678705,   1.74346202,   0.99626401,\n",
        "         0.87173101,   0.373599  ,   0.124533  ,   0.        ]),\n",
        " array([-0.1 , -0.09, -0.08, -0.07, -0.06, -0.05, -0.04, -0.03, -0.02,\n",
        "       -0.01,  0.  ,  0.01,  0.02,  0.03,  0.04,  0.05,  0.06,  0.07,\n",
        "        0.08,  0.09,  0.1 ]),\n",
        " <a list of 20 Patch objects>)"
       ]
      },
      {
       "metadata": {},
       "output_type": "display_data",
       "png": "[encoded data removed]",
       "text": [
        "<matplotlib.figure.Figure at 0x10777de50>"
       ]
      }
     ],
     "prompt_number": 11
    },
    {
     "cell_type": "code",
     "collapsed": false,
     "input": [
      "print([np.mean(excludeNaN(weekend_eff)) , np.mean(excludeNaN(day2_eff))], tstat_diff_day2)\n",
      "\n",
      "fig = plt.figure()\n",
      "ax1 = fig.add_subplot(2, 1, 1)\n",
      "ax1.plot(day2_eff, 'bx', label='Weekday 2', alpha=1)\n",
      "ax1.hold(True)\n",
      "ax1.plot(weekend_eff, 'rx', label='Weekend Effect', alpha=0.4)\n",
      "#ax1.legend(loc=0)\n",
      "ax1.hold(False)\n",
      "\n",
      "dif_with_day2 = diffunc(weekend_eff, day2_eff)\n",
      "ax2 = fig.add_subplot(2, 1, 2)\n",
      "ax2.hist(excludeNaN(dif_with_day2), bins=setbins, normed=True, alpha=.5)"
     ],
     "language": "python",
     "metadata": {},
     "outputs": [
      {
       "output_type": "stream",
       "stream": "stdout",
       "text": [
        "([1.0000313451176841, 1.0015945267065436], -0.071169405734420058)\n"
       ]
      },
      {
       "metadata": {},
       "output_type": "pyout",
       "prompt_number": 12,
       "text": [
        "(array([  0.11337868,   0.11337868,   0.11337868,   0.56689342,\n",
        "         0.79365079,   2.2675737 ,   4.19501134,   8.84353741,\n",
        "        17.00680272,  22.90249433,  16.32653061,  10.54421769,\n",
        "         9.07029478,   3.51473923,   1.58730159,   1.13378685,\n",
        "         0.56689342,   0.11337868,   0.11337868,   0.11337868]),\n",
        " array([-0.1 , -0.09, -0.08, -0.07, -0.06, -0.05, -0.04, -0.03, -0.02,\n",
        "       -0.01,  0.  ,  0.01,  0.02,  0.03,  0.04,  0.05,  0.06,  0.07,\n",
        "        0.08,  0.09,  0.1 ]),\n",
        " <a list of 20 Patch objects>)"
       ]
      },
      {
       "metadata": {},
       "output_type": "display_data",
       "png": "[encoded data removed]",
       "text": [
        "<matplotlib.figure.Figure at 0x101d717d0>"
       ]
      }
     ],
     "prompt_number": 12
    },
    {
     "cell_type": "code",
     "collapsed": false,
     "input": [
      "print([np.mean(excludeNaN(weekend_eff)) , np.mean(excludeNaN(day3_eff))], tstat_diff_day3)\n",
      "\n",
      "fig = plt.figure()\n",
      "ax1 = fig.add_subplot(2, 1, 1)\n",
      "ax1.plot(day3_eff, 'bx', label='Weekday 3', alpha=1)\n",
      "ax1.hold(True)\n",
      "ax1.plot(weekend_eff, 'rx', label='Weekend Effect', alpha=0.4)\n",
      "#ax1.legend(loc=0)\n",
      "ax1.hold(False)\n",
      "\n",
      "dif_with_day2 = diffunc(weekend_eff, day3_eff)\n",
      "ax2 = fig.add_subplot(2, 1, 2)\n",
      "ax2.hist(excludeNaN(dif_with_day2), bins=setbins, normed=True, alpha=.5)"
     ],
     "language": "python",
     "metadata": {},
     "outputs": [
      {
       "output_type": "stream",
       "stream": "stdout",
       "text": [
        "([1.0000313451176841, 1.0016859673374987], -0.075332565927347106)\n"
       ]
      },
      {
       "metadata": {},
       "output_type": "pyout",
       "prompt_number": 13,
       "text": [
        "(array([  0.        ,   0.23148148,   0.23148148,   0.34722222,\n",
        "         0.92592593,   1.62037037,   4.51388889,   7.87037037,\n",
        "        18.05555556,  23.37962963,  17.59259259,  11.11111111,\n",
        "         6.13425926,   4.62962963,   1.73611111,   0.46296296,\n",
        "         0.5787037 ,   0.34722222,   0.11574074,   0.11574074]),\n",
        " array([-0.1 , -0.09, -0.08, -0.07, -0.06, -0.05, -0.04, -0.03, -0.02,\n",
        "       -0.01,  0.  ,  0.01,  0.02,  0.03,  0.04,  0.05,  0.06,  0.07,\n",
        "        0.08,  0.09,  0.1 ]),\n",
        " <a list of 20 Patch objects>)"
       ]
      },
      {
       "metadata": {},
       "output_type": "display_data",
       "png": "[encoded data removed]",
       "text": [
        "<matplotlib.figure.Figure at 0x1095babd0>"
       ]
      }
     ],
     "prompt_number": 13
    },
    {
     "cell_type": "code",
     "collapsed": false,
     "input": [
      "print([np.mean(excludeNaN(weekend_eff)) , np.mean(excludeNaN(day4_eff))], tstat_diff_day4)\n",
      "\n",
      "fig = plt.figure()\n",
      "ax1 = fig.add_subplot(2, 1, 1)\n",
      "ax1.plot(day3_eff, 'bx', label='Weekday 4', alpha=1)\n",
      "ax1.hold(True)\n",
      "ax1.plot(weekend_eff, 'rx', label='Weekend Effect', alpha=0.4)\n",
      "#ax1.legend(loc=0)\n",
      "ax1.hold(False)\n",
      "\n",
      "dif_with_day2 = diffunc(weekend_eff, day4_eff)\n",
      "ax2 = fig.add_subplot(2, 1, 2)\n",
      "ax2.hist(excludeNaN(dif_with_day2), bins=setbins, normed=True, alpha=.5)"
     ],
     "language": "python",
     "metadata": {},
     "outputs": [
      {
       "output_type": "stream",
       "stream": "stdout",
       "text": [
        "([1.0000313451176841, 1.0014829744262179], -0.066090591119612838)\n"
       ]
      },
      {
       "metadata": {},
       "output_type": "pyout",
       "prompt_number": 14,
       "text": [
        "(array([  0.23668639,   0.        ,   0.        ,   0.1183432 ,\n",
        "         0.71005917,   1.77514793,   3.90532544,  10.53254438,\n",
        "        17.86982249,  22.01183432,  17.15976331,  11.36094675,\n",
        "         6.74556213,   2.72189349,   3.31360947,   0.35502959,\n",
        "         0.35502959,   0.71005917,   0.1183432 ,   0.        ]),\n",
        " array([-0.1 , -0.09, -0.08, -0.07, -0.06, -0.05, -0.04, -0.03, -0.02,\n",
        "       -0.01,  0.  ,  0.01,  0.02,  0.03,  0.04,  0.05,  0.06,  0.07,\n",
        "        0.08,  0.09,  0.1 ]),\n",
        " <a list of 20 Patch objects>)"
       ]
      },
      {
       "metadata": {},
       "output_type": "display_data",
       "png": "[encoded data removed]",
       "text": [
        "<matplotlib.figure.Figure at 0x109a214d0>"
       ]
      }
     ],
     "prompt_number": 14
    },
    {
     "cell_type": "markdown",
     "metadata": {},
     "source": [
      "# Mann\u2013Whitney U Test \n",
      "\n",
      "A very general formulation is to assume that: (more efficient than T test in non-normal dist)\n",
      "\n",
      "1.\tAll the observations from both groups are independent of each other,\n",
      "2.\tThe responses are ordinal (i.e. one can at least say, of any two observations, which is the greater),\n",
      "3.\tThe distributions of both groups are equal under the null hypothesis, so that the probability of an observation from one population (X) exceeding an observation from the second population (Y) equals the probability of an observation from Y exceeding an observation from X. That is, there is a symmetry between populations with respect to probability of random drawing of a larger observation.\n",
      "4.\tUnder the alternative hypothesis, the probability of an observation from one population (X) exceeding an observation from the second population (Y) (after exclusion of ties) is not equal to 0.5. The alternative may also be stated in terms of a one-sided test, for example: P(X\u00a0>\u00a0Y)\u00a0+\u00a00.5 P(X\u00a0=\u00a0Y) \u00a0>\u00a00.5.\n",
      "\n",
      "Thus, null is Friday.mean() = NonFri.mean(), and inequality otherwise\n"
     ]
    },
    {
     "cell_type": "code",
     "collapsed": false,
     "input": [
      "import scipy.stats as stats\n",
      "u, MW_p_value = stats.mannwhitneyu(Friday, NonFri)\n",
      "print(\"two-sample wilcoxon-test p-value is\", MW_p_value)\n",
      "\n",
      "# p_value < 0.01 => alternative hypothesis:\n",
      "# they don't have the same mean at the 1% significance level"
     ],
     "language": "python",
     "metadata": {},
     "outputs": []
    },
    {
     "cell_type": "code",
     "collapsed": false,
     "input": [
      "t_statistic, TSTAT_p_value = stats.ttest_ind(Friday, NonFri)\n",
      "print(\"similarly in two-sample t-test, p-value is\", TSTAT_p_value)"
     ],
     "language": "python",
     "metadata": {},
     "outputs": []
    },
    {
     "cell_type": "code",
     "collapsed": false,
     "input": [
      "print(\"Mean of Fridays is\", sum(Friday)/len(Friday), \"and mean of NonFris is\", sum(NonFri)/len(NonFri))"
     ],
     "language": "python",
     "metadata": {},
     "outputs": []
    },
    {
     "cell_type": "markdown",
     "metadata": {},
     "source": [
      "# The Kruskal-Wallis H-test \n",
      "\n",
      "tests the null hypothesis that the population median of all of the groups are equal. \n",
      "It is a non-parametric version of ANOVA. "
     ]
    },
    {
     "cell_type": "code",
     "collapsed": false,
     "input": [
      "u, ANOVA_p_value = stats.mstats.kruskalwallis(Friday, NonFri) # Chi-square degree of freedom 1\n",
      "print(\"one-way ANOVA Kruskal Wallis test p-value is\", ANOVA_p_value)"
     ],
     "language": "python",
     "metadata": {},
     "outputs": []
    },
    {
     "cell_type": "code",
     "collapsed": false,
     "input": [
      "# All of the arrays must have the same number of elements. \n",
      "print(len(Friday), len(Monday), len(Tuesday), len(Wednesday), len(Thursday))"
     ],
     "language": "python",
     "metadata": {},
     "outputs": []
    },
    {
     "cell_type": "markdown",
     "metadata": {},
     "source": [
      "p_value < 0.01 => alternative hypothesis: They don't have the same median at the 1% significance level\n",
      "\n",
      "Mann\u2013Whitney U Test &  Kruskal-Wallis H-test limitation: \n",
      "In light of time-series data, Friday might not be independent from NonFri."
     ]
    },
    {
     "cell_type": "markdown",
     "metadata": {},
     "source": [
      "# The Friedman Test \n",
      "tests the null hypothesis that repeated measurements of the same individuals have the same distribution."
     ]
    },
    {
     "cell_type": "code",
     "collapsed": false,
     "input": [
      "# In order to apply Friedman test, measurements must have equal length, hence,\n",
      "# ASSUME that all the missing days are of no information\n",
      "\n",
      "FridayFM = Friday + [NaN]*63\n",
      "MondayFM = Monday + [NaN]*187\n",
      "TuesdayFM = Tuesday + [NaN]*1\n",
      "WednesdayFM = Wednesday\n",
      "ThursdayFM = Thursday + [NaN]*43\n",
      "\n",
      "print(len(FridayFM), len(MondayFM), len(TuesdayFM), len(WednesdayFM), len(ThursdayFM))"
     ],
     "language": "python",
     "metadata": {},
     "outputs": []
    },
    {
     "cell_type": "code",
     "collapsed": false,
     "input": [
      "u, fridman_p_value = stats.mstats.friedmanchisquare(FridayFM, MondayFM, TuesdayFM, WednesdayFM, ThursdayFM)\n",
      "print(\"five-measure Friedman test p-value is\", fridman_p_value)\n",
      "\n",
      "# p_value < 0.01 => alternative hypothesis:\n",
      "# some of the measurements were taken differently at the 1% significance level"
     ],
     "language": "python",
     "metadata": {},
     "outputs": []
    },
    {
     "cell_type": "code",
     "collapsed": false,
     "input": [
      "u, p_value = stats.mstats.friedmanchisquare(MondayFM, TuesdayFM, WednesdayFM, ThursdayFM)\n",
      "print(\"four-measure (excluding Friday) Friedman test p-value is\", p_value)\n",
      "\n",
      "# p_value > 0.01 => null hypothesis:\n",
      "# null is not rejected at the 1% significance level, measurements consistant"
     ],
     "language": "python",
     "metadata": {},
     "outputs": []
    },
    {
     "cell_type": "markdown",
     "metadata": {},
     "source": [
      "Friedman Test limitation: \n",
      "\n",
      "Due to the assumption that the test statistic has a chi squared distribution, the p-value is only reliable for n > 10 and more than 6 repeated measurements."
     ]
    },
    {
     "cell_type": "markdown",
     "metadata": {},
     "source": [
      "# Histogram"
     ]
    },
    {
     "cell_type": "code",
     "collapsed": false,
     "input": [
      "# By CLT, mean is asymptotically normal with var = /sigma^{2} over n\n",
      "z = (mean(Friday)-1)/sqrt(var(Friday)/len(Friday))\n",
      "\n",
      "# Null:    mean(Friday) = 1\n",
      "# Alter:   mean(Friday) != 1\n",
      "\n",
      "print(\"z-score is\", z)"
     ],
     "language": "python",
     "metadata": {},
     "outputs": []
    },
    {
     "cell_type": "code",
     "collapsed": false,
     "input": [
      "# By CLT, mean is asymptotically normal with var = /sigma^{2} over n\n",
      "z= (mean(Friday+NonFri)-1)/sqrt(var(Friday+NonFri)/len(Friday+NonFri))\n",
      "\n",
      "# Null:    mean(weekdays) = 1\n",
      "# Alter:   mean(weekdays) != 1\n",
      "\n",
      "print(\"z-score is\", z)"
     ],
     "language": "python",
     "metadata": {},
     "outputs": []
    },
    {
     "cell_type": "code",
     "collapsed": false,
     "input": [
      "# multi normalized histogram of Friday and NonFriday\n",
      "\n",
      "plt.hist(Friday, bins=25, normed=True, alpha=.5)\n",
      "plt.hist(NonFri+Friday, bins=25, normed=True, alpha=.5)"
     ],
     "language": "python",
     "metadata": {},
     "outputs": []
    },
    {
     "cell_type": "markdown",
     "metadata": {},
     "source": [
      "# Kernel Estimation"
     ]
    },
    {
     "cell_type": "code",
     "collapsed": false,
     "input": [
      "from sklearn.neighbors import KernelDensity\n",
      "kde = KernelDensity(bandwidth=.001, algorithm='auto', kernel='tophat', metric='euclidean', atol=0, rtol=0, breadth_first=True, leaf_size=40, metric_params=None)\n",
      "# kernel estimation with tophat as spike-like histogram\n",
      "\n",
      "# train the model\n",
      "kde.fit(Friday+NonFri)\n",
      "\n",
      "# 100 sample\n",
      "ker100 = kde.sample(n_samples=100, random_state=None)\n",
      "\n",
      "sample = []\n",
      "for i in range(0, len(ker100)):\n",
      "    sample = sample + ker100.tolist()[0]\n",
      "\n",
      "plt.hist(Friday+NonFri, bins=25, normed=True, alpha=.5)\n",
      "plt.hist(sample, bins=25, normed=True, alpha=.5)  # settled down to Friday's\n",
      "\n",
      "# kernel estiamted collapse w/ original, so estimation worked"
     ],
     "language": "python",
     "metadata": {},
     "outputs": []
    },
    {
     "cell_type": "markdown",
     "metadata": {},
     "source": [
      "# Bootstrap"
     ]
    },
    {
     "cell_type": "code",
     "collapsed": false,
     "input": [
      "MonteCarloBoot = kde.sample(n_samples=1000, random_state=None)"
     ],
     "language": "python",
     "metadata": {},
     "outputs": []
    },
    {
     "cell_type": "code",
     "collapsed": false,
     "input": [
      "BootMean = [None]*len(MonteCarloBoot)\n",
      "def bootMean(MonteCarloBoot, BootMean):\n",
      "    for i in range(0, len(MonteCarloBoot)):\n",
      "        BootMean[i] = MonteCarloBoot[i].mean()\n",
      "    return(BootMean)\n",
      "\n",
      "BootMean = bootMean(MonteCarloBoot, BootMean)\n",
      "\n",
      "# Bootstrapping with T = mean(obs)\n",
      "# v_boot = 1/B * B_sum(T - mean(T))^2\n",
      "\n",
      "Boot_var = std(BootMean)\n",
      "\n",
      "print(\"Monte Carlo Bootstrapping with mean\", mean(BootMean), \"variance\", Boot_var)"
     ],
     "language": "python",
     "metadata": {},
     "outputs": []
    },
    {
     "cell_type": "code",
     "collapsed": false,
     "input": [
      "plt.hist(BootMean, bins=25)"
     ],
     "language": "python",
     "metadata": {},
     "outputs": []
    },
    {
     "cell_type": "code",
     "collapsed": false,
     "input": [
      "from sklearn.neighbors import KernelDensity\n",
      "kdeF = KernelDensity(bandwidth=.001, algorithm='auto', kernel='tophat', metric='euclidean', atol=0, rtol=0, breadth_first=True, leaf_size=40, metric_params=None)\n",
      "# kernel estimation with tophat as spike-like histogram\n",
      "\n",
      "kdeF.fit(Friday)\n",
      "FriBoot = kdeF.sample(n_samples=1000, random_state=None)\n",
      "\n",
      "FriBootMean = [None]*len(FriBoot)\n",
      "FriBootMean = bootMean(FriBoot, FriBootMean)\n",
      "    \n",
      "plt.hist(FriBootMean, bins=25)"
     ],
     "language": "python",
     "metadata": {},
     "outputs": []
    },
    {
     "cell_type": "code",
     "collapsed": false,
     "input": [
      "pyplot.hist(FriBootMean, 25, alpha=0.5)\n",
      "pyplot.hist(BootMean, 25, alpha=0.5)\n",
      "pyplot.show()"
     ],
     "language": "python",
     "metadata": {},
     "outputs": []
    },
    {
     "cell_type": "markdown",
     "metadata": {},
     "source": [
      "Result:\n",
      "\n",
      "MC Simulation indicates Friday has different distribution pattern from other Days of the Week combined. Does it imply that there exists free arbitrary opportunity, or simply the statistical analysis has gone wrong?"
     ]
    },
    {
     "cell_type": "markdown",
     "metadata": {},
     "source": [
      "# Table"
     ]
    },
    {
     "cell_type": "code",
     "collapsed": false,
     "input": [
      "# put results in a table\n",
      "\n",
      "data = {'Test': ['Mann\u2013Whitney U Test', 'Kruskal-Wallis H-test', 'T Statistic', 'Fridman'],\n",
      "        'Intro': ['independent, ordinal, dist equal under null', 'one-way ANOVA assumptions', 'student\"s t-tests, dof > 30', 'repeated measurements same dist?'],\n",
      "        'P Value': [MW_p_value, ANOVA_p_value, TSTAT_p_value, fridman_p_value],\n",
      "        'Significance': [.01, .01, .01, .01],\n",
      "        'Comments': ['assumed independent','assumed iid, same var, normal', 'N/A','assumed missing NaN']}\n",
      "football = pd.DataFrame(data, columns=['Test', 'Intro', 'P Value', 'Significance', 'Comments'])\n",
      "print (football)"
     ],
     "language": "python",
     "metadata": {},
     "outputs": []
    }
   ],
   "metadata": {}
  }
 ]
}